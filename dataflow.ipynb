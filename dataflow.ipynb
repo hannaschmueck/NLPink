{
 "cells": [
  {
   "cell_type": "code",
   "execution_count": 61,
   "metadata": {},
   "outputs": [],
   "source": [
    "import os, yaml\n",
    "import requests\n",
    "from openai import OpenAI\n",
    "from PyPDF2 import PdfReader\n",
    "from langchain.vectorstores import FAISS\n",
    "from langchain.chat_models import ChatOpenAI\n",
    "from langchain.memory import ConversationBufferMemory\n",
    "from langchain.chains import ConversationalRetrievalChain\n",
    "from langchain.text_splitter import CharacterTextSplitter\n",
    "from langchain.embeddings import HuggingFaceBgeEmbeddings\n",
    "from langchain_community.embeddings.openai import OpenAIEmbeddings\n",
    "\n"
   ]
  },
  {
   "cell_type": "code",
   "execution_count": 62,
   "metadata": {},
   "outputs": [],
   "source": [
    "#Setting the Credentials of OpenAI API\n",
    "with open('credentials.yaml') as f:\n",
    "    credentials = yaml.load(f, Loader=yaml.FullLoader)\n",
    "\n",
    "os.environ['OPENAI_API_KEY'] = credentials['OPENAI_API_KEY']"
   ]
  },
  {
   "cell_type": "code",
   "execution_count": 63,
   "metadata": {},
   "outputs": [],
   "source": [
    "def complete_model(USER_MESSAGE):\n",
    "    response = client.chat.completions.create(\n",
    "                                            model = 'gpt-4o',\n",
    "                                            messages = [\n",
    "                                                        {\"role\": \"system\", \"content\" : \"You are a helpful assitant to identify the tag for sense of a word\"},\n",
    "                                                        {\"role\": \"user\", \"content\": USER_MESSAGE}              \n",
    "                                                        ],\n",
    "                                            temperature=0,\n",
    "                                            max_tokens=1500\n",
    "                                            )\n",
    "    return str(response.choices[0].message.content)"
   ]
  },
  {
   "cell_type": "code",
   "execution_count": 64,
   "metadata": {},
   "outputs": [],
   "source": [
    "embedding_llm = HuggingFaceBgeEmbeddings(\n",
    "                                        model_name = \"BAAI/bge-small-en\",\n",
    "                                        model_kwargs = {'device': 'cuda'}, #CPU\n",
    "                                        encode_kwargs = {'normalize_embeddings': False})"
   ]
  },
  {
   "cell_type": "code",
   "execution_count": 65,
   "metadata": {},
   "outputs": [],
   "source": [
    "#Creating the tex Chunks\n",
    "def get_text_chunks(text):\n",
    "    text_splitter = CharacterTextSplitter(\n",
    "                                        separator=\"\\n\",\n",
    "                                        chunk_size=1000,\n",
    "                                        chunk_overlap=200,\n",
    "                                        )\n",
    "    chunks = text_splitter.split_text(text)\n",
    "    return chunks"
   ]
  },
  {
   "cell_type": "code",
   "execution_count": 66,
   "metadata": {},
   "outputs": [],
   "source": [
    "#buidling the vector store\n",
    "def get_vectorstore(text_chunks):\n",
    "    vectorstore = FAISS.from_texts(\n",
    "                                    texts=text_chunks, \n",
    "                                    embedding=embedding_llm\n",
    "                                    )\n",
    "    return vectorstore"
   ]
  },
  {
   "cell_type": "code",
   "execution_count": 67,
   "metadata": {},
   "outputs": [],
   "source": [
    "def get_data():\n",
    "    file= open(\"data.txt\",\"r\")\n",
    "    txt=file.read()\n",
    "    \n",
    "    return txt"
   ]
  },
  {
   "cell_type": "code",
   "execution_count": 68,
   "metadata": {},
   "outputs": [],
   "source": [
    "def data_pipeline():\n",
    "    text = get_data()\n",
    "    chunks = get_text_chunks(text)\n",
    "    vectorstore = get_vectorstore(chunks)\n",
    "    return vectorstore"
   ]
  },
  {
   "cell_type": "code",
   "execution_count": 69,
   "metadata": {},
   "outputs": [],
   "source": [
    "vectorstore=data_pipeline()"
   ]
  },
  {
   "cell_type": "code",
   "execution_count": 38,
   "metadata": {},
   "outputs": [],
   "source": [
    "#Not Required for the porgram. Displaying the relevant documents from Retriever\n",
    "retriever = vectorstore.as_retriever(search_kwargs={\"k\" : 3}, search_type=\"similarity\")\n"
   ]
  },
  {
   "cell_type": "code",
   "execution_count": 70,
   "metadata": {},
   "outputs": [
    {
     "name": "stderr",
     "output_type": "stream",
     "text": [
      "Warning: model not found. Using cl100k_base encoding.\n"
     ]
    },
    {
     "data": {
      "text/plain": [
       "[Document(page_content=\"Signor Presidente, onorevoli senatori, onorevole Ministro, la ringrazio per il messaggio di consapevolezza e impegno che oggi ha portato in quest'Aula e che già ieri sera dalla Camera è entrato nelle case degli italiani. Tutti noi abbiamo bisogno di questo messaggio. L'Italia ha necessità di questo messaggio, ma anche l'Europa e il mondo, e noi ci uniamo per trasmettere il senso di sicurezza che viene dalla convinzione che il nostro sistema sanitario e di protezione, composto da medici, infermieri, Protezione civile, Forze dell'ordine, Esercito e associazioni di volontariato è all'altezza di questa situazione per quanto questa sia in tanta parte inedita. Noi diciamo ancora grazie a tutti questi nostri concittadini, perché - permettetemi di sottolinearlo - ci danno il senso di quanto è contenuto all'articolo 4 della nostra Costituzione: «Ogni cittadino ha il dovere di svolgere, secondo le proprie possibilità e la propria scelta, un'attività o una funzione che concorra al progresso materiale o spirituale della società». [[Applausi dal Gruppo PD]] Questa convinzione ci deve unire e deve consentire a ognuno di noi di trasmettere un messaggio di unità a tutto il Paese. Perché contro il coronavirus ognuno è al suo posto di lavoro, il Governo, il Ministro, il Parlamento, il Servizio sanitario nazionale, gli scienziati, le Regioni, i Comuni, tutti determinati a sconfiggere questa emergenza. Abbiamo una voce sola e dobbiamo avere una voce sola per dire che nessuno sarà lasciato solo e perché siamo guidati dalle istituzioni scientifiche del nostro Paese che sono al nostro fianco e dall'Organizzazione mondiale della sanità. E se il nostro pensiero va alle famiglie e a coloro che sono stati colpiti dal virus in modo letale, il crescente numero di persone che vengono dimesse deve dare il senso che il coronavirus si può superare nella stragrande maggioranza delle situazioni grazie alle cure e all'assistenza, che già ora possiamo mettere in atto nelle strutture dedicate, come dimostra l'attività svolta all'Istituto Spallanzani. Oggi però il punto è soprattutto questo: isolare il più possibile il virus, contenerne la diffusione. Impedire il più possibile il contagio è l'imperativo di questa fase. La Camera ha già votato il decreto-legge; qui al Senato lo incardineremo oggi stesso in Commissione sanità, per convertirlo definitivamente in legge nei primi giorni della prossima settimana ed espletare il nostro compito: si tratta delle norme che oggi riteniamo più adeguate per impedire il più possibile il contagio e isolare i focolai. Sono arrivati i Ministri della sanità dei Paesi con noi confinanti e ce lo hanno riconosciuto ed anche il Commissario europeo lo ha attestato. Ma riprendendo le parole di prima, nei prossimi giorni, a partire dal Senato, con una voce sola dobbiamo iniziare a far virare l'atteggiamento degli italiani per far riprendere loro fiducia, innanzitutto per affrontare i disagi che ancora ci saranno. Non basteranno le parole per fare virare il sentiment. Domani va approvato in Consiglio dei ministri il decreto-legge che mette in atto le azioni che devono sostenere il sistema economico del nostro Paese e non solo delle zone rosse purtroppo, perché l'atteggiamento che stiamo registrando fuori dall'Italia sta propagando effetti negativi che colpiscono l'intero sistema delle imprese italiane, sempre più internazionalizzato e interconnesso. Il settore del turismo, che è un indicatore sensibile, registra segnali molto preoccupanti. Voglio toccare infine il tema dell'Europa, perché se da una parte il commissario Gentiloni ha dato delle prime importanti risposte sul piano delle risorse messe a disposizione del contrasto alle ricadute economiche negative, dall'altra parte sul piano delle azioni di tipo sanitario, siamo di fronte a forti disomogeneità, a standard di controllo molto diversi e a comportamenti complessivamente scoordinati. L'Europa si scopre arretrata su un tema importante come la sicurezza sanitaria e, a fronte di azioni determinate e risolute come quelle italiane, la mancanza di strategie precise negli altri Paesi rende difficile prevedere gli sviluppi dei prossimi giorni. Da un po' di tempo mi interrogo, di fronte alle tante contraddizioni che viviamo nel nostro tempo, se la politica ha ancora la possibilità di rappresentare un riferimento agganciato alla verità dei problemi o se la politica degli slogan ha definitivamente avuto il sopravvento nel disegnare le percezioni sulle quali lucrare il consenso. In situazioni come queste penso che la politica debba sempre alimentare nei cittadini le consapevolezze autentiche, il sistema di valori originario, affinché i cittadini possano giudicare le proposte in rapporto alla realtà del funzionamento delle cose, perché i tentativi di sovvertirla o di piegarla alle proprie convenienze, può non reggere alla forza di eventi che ne ristabiliscono l'evidenza. Dovrò cercare parole nuove per provare a spiegare ai miei figli, che non stanno andando a scuola e mi fanno domande, perché per la prima volta vivono su loro stessi l'idea di qualcosa di irreparabile e direi quasi per loro di innaturale, in quanto ritenuto fino a ieri lontano e anche remoto. Avranno un mondo davanti in cui vivere e affrontare sfide probabilmente diverse da come possiamo immaginarle noi, ma di certo quest'esperienza sarà ricordata, valutata e giudicata. A noi tocca la responsabilità di darle un volto, che credo debba essere quello di una comunità nazionale e locale coesa, solidale e capace. [[Applausi dai Gruppi PD, M5S e Aut (SVP-PATT, UV). Congratulazioni.]]\")]"
      ]
     },
     "execution_count": 70,
     "metadata": {},
     "output_type": "execute_result"
    }
   ],
   "source": [
    "\n",
    "docs = retriever.get_relevant_documents(\"Ringraziamento per il messaggio espresso dal Presidente riguardo l'emergenza COVID\")\n",
    "docs"
   ]
  },
  {
   "cell_type": "code",
   "execution_count": 72,
   "metadata": {},
   "outputs": [
    {
     "name": "stdout",
     "output_type": "stream",
     "text": [
      "[[{'label': 'joy', 'score': 0.9992088675498962}, {'label': 'sadness', 'score': 0.0005023473058827221}]]\n"
     ]
    }
   ],
   "source": [
    "#Finetuned UMberto model\n",
    "from transformers import pipeline\n",
    "classifier = pipeline(\"text-classification\",model='MilaNLProc/feel-it-italian-emotion',top_k=2)\n",
    "prediction = classifier(\"Signor Presidente, onorevoli senatori, onorevole Ministro, la ringrazio per il messaggio di consapevolezza e impegno che oggi ha portato in quest'Aula e che già ieri sera dalla Camera è entrato nelle case degli italiani. Tutti noi abbiamo bisogno di questo messaggio.\")\n",
    "print(prediction)\n"
   ]
  },
  {
   "cell_type": "code",
   "execution_count": 73,
   "metadata": {},
   "outputs": [],
   "source": [
    "#GPT 4o\n",
    "prompt=f\" Given the test, assign a emotional label from from [anger, disgust, happiness, sadness, fear, and surprise]. You need to refer to {docs} \""
   ]
  },
  {
   "cell_type": "code",
   "execution_count": 74,
   "metadata": {},
   "outputs": [],
   "source": [
    "output=complete_model(prompt)"
   ]
  },
  {
   "cell_type": "code",
   "execution_count": 75,
   "metadata": {},
   "outputs": [
    {
     "name": "stdout",
     "output_type": "stream",
     "text": [
      "The emotional label for the given text is \"happiness.\" \n",
      "\n",
      "The speech conveys a sense of unity, gratitude, and confidence in the collective efforts of various sectors in combating the coronavirus. It emphasizes the importance of solidarity, the effectiveness of the healthcare system, and the positive outcomes of the measures being taken. The applause and congratulations at the end further reinforce the positive and uplifting tone of the message.\n"
     ]
    }
   ],
   "source": [
    "print(output)"
   ]
  }
 ],
 "metadata": {
  "kernelspec": {
   "display_name": "llm",
   "language": "python",
   "name": "python3"
  },
  "language_info": {
   "codemirror_mode": {
    "name": "ipython",
    "version": 3
   },
   "file_extension": ".py",
   "mimetype": "text/x-python",
   "name": "python",
   "nbconvert_exporter": "python",
   "pygments_lexer": "ipython3",
   "version": "3.11.5"
  }
 },
 "nbformat": 4,
 "nbformat_minor": 2
}
