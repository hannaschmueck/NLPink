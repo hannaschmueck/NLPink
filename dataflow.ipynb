{
 "cells": [
  {
   "cell_type": "code",
   "execution_count": 9,
   "metadata": {},
   "outputs": [],
   "source": [
    "import os, yaml\n",
    "import requests\n",
    "from openai import OpenAI\n",
    "from PyPDF2 import PdfReader\n",
    "from langchain.vectorstores import FAISS\n",
    "from langchain.chat_models import ChatOpenAI\n",
    "from langchain.memory import ConversationBufferMemory\n",
    "from langchain.chains import ConversationalRetrievalChain\n",
    "from langchain.text_splitter import CharacterTextSplitter\n",
    "from langchain.embeddings import HuggingFaceBgeEmbeddings\n",
    "from langchain.embeddings import OpenAIEmbeddings\n",
    "\n"
   ]
  },
  {
   "cell_type": "code",
   "execution_count": 7,
   "metadata": {},
   "outputs": [],
   "source": [
    "#Setting the Credentials of OpenAI API\n",
    "with open('credentials.yaml') as f:\n",
    "    credentials = yaml.load(f, Loader=yaml.FullLoader)\n",
    "\n",
    "os.environ['OPENAI_API_KEY'] = credentials['OPENAI_API_KEY']"
   ]
  },
  {
   "cell_type": "code",
   "execution_count": 20,
   "metadata": {},
   "outputs": [],
   "source": [
    "def complete_model(USER_MESSAGE):\n",
    "    response = client.chat.completions.create(\n",
    "                                            model = 'gpt-4o',\n",
    "                                            messages = [\n",
    "                                                        {\"role\": \"system\", \"content\" : \"You are a helpful assitant to identify the tag for sense of a word\"},\n",
    "                                                        {\"role\": \"user\", \"content\": USER_MESSAGE}              \n",
    "                                                        ],\n",
    "                                            temperature=0,\n",
    "                                            max_tokens=1500\n",
    "                                            )\n",
    "    return str(response.choices[0].message.content)"
   ]
  },
  {
   "cell_type": "code",
   "execution_count": 24,
   "metadata": {},
   "outputs": [],
   "source": [
    "\n",
    "embedding_llm =  OpenAIEmbeddings(model=\"text-embedding-3-small\")\n"
   ]
  },
  {
   "cell_type": "code",
   "execution_count": 12,
   "metadata": {},
   "outputs": [],
   "source": [
    "#Creating the tex Chunks\n",
    "def get_text_chunks(text):\n",
    "    text_splitter = CharacterTextSplitter(\n",
    "                                        separator=\"\\n\",\n",
    "                                        chunk_size=1000,\n",
    "                                        chunk_overlap=200,\n",
    "                                        )\n",
    "    chunks = text_splitter.split_text(text)\n",
    "    return chunks"
   ]
  },
  {
   "cell_type": "code",
   "execution_count": 25,
   "metadata": {},
   "outputs": [],
   "source": [
    "#buidling the vector store\n",
    "def get_vectorstore(text_chunks):\n",
    "    vectorstore = FAISS.from_texts(\n",
    "                                    texts=text_chunks, \n",
    "                                    embedding=embedding_llm\n",
    "                                    )\n",
    "    return vectorstore"
   ]
  },
  {
   "cell_type": "code",
   "execution_count": 26,
   "metadata": {},
   "outputs": [],
   "source": [
    "def get_data():\n",
    "    file= open(\"data.txt\",\"r\")\n",
    "    txt=file.read()\n",
    "    \n",
    "    return txt"
   ]
  },
  {
   "cell_type": "code",
   "execution_count": 27,
   "metadata": {},
   "outputs": [],
   "source": [
    "def data_pipeline():\n",
    "    text = get_data()\n",
    "    chunks = get_text_chunks(text)\n",
    "    vectorstore = get_vectorstore(chunks)\n",
    "    return vectorstore"
   ]
  },
  {
   "cell_type": "code",
   "execution_count": 28,
   "metadata": {},
   "outputs": [
    {
     "name": "stderr",
     "output_type": "stream",
     "text": [
      "Warning: model not found. Using cl100k_base encoding.\n"
     ]
    }
   ],
   "source": [
    "vectorstore=data_pipeline()"
   ]
  },
  {
   "cell_type": "code",
   "execution_count": 29,
   "metadata": {},
   "outputs": [],
   "source": [
    "#Not Required for the porgram. Displaying the relevant documents from Retriever\n",
    "retriever = vectorstore.as_retriever(search_kwargs={\"k\" : 3}, search_type=\"similarity\")\n"
   ]
  },
  {
   "cell_type": "code",
   "execution_count": null,
   "metadata": {},
   "outputs": [],
   "source": [
    "\n",
    "docs = retriever.get_relevant_documents(\"\")\n",
    "docs"
   ]
  },
  {
   "cell_type": "code",
   "execution_count": null,
   "metadata": {},
   "outputs": [],
   "source": [
    "#Finetuned UMberto model\n",
    "from transformers import pipeline\n",
    "classifier = pipeline(\"text-classification\",model='MilaNLProc/feel-it-italian-emotion',top_k=2)\n",
    "prediction = classifier(docs)\n",
    "print(prediction)\n"
   ]
  },
  {
   "cell_type": "code",
   "execution_count": null,
   "metadata": {},
   "outputs": [],
   "source": [
    "#GPT 4o\n",
    "prompt=\" Given the test, assign a emotional label from [] \""
   ]
  }
 ],
 "metadata": {
  "kernelspec": {
   "display_name": "llm",
   "language": "python",
   "name": "python3"
  },
  "language_info": {
   "codemirror_mode": {
    "name": "ipython",
    "version": 3
   },
   "file_extension": ".py",
   "mimetype": "text/x-python",
   "name": "python",
   "nbconvert_exporter": "python",
   "pygments_lexer": "ipython3",
   "version": "3.11.5"
  }
 },
 "nbformat": 4,
 "nbformat_minor": 2
}
