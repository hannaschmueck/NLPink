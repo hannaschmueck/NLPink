{
 "cells": [
  {
   "cell_type": "markdown",
   "metadata": {},
   "source": [
    "Dataprocessing Pipeline"
   ]
  },
  {
   "cell_type": "code",
   "execution_count": 15,
   "metadata": {},
   "outputs": [],
   "source": [
    "import re\n",
    "import os\n",
    "import glob\n",
    "import zipfile\n",
    "\n",
    "indir = \"/Users/hannaschmueck/Downloads/ParlaMint-AT/ParlaMint-AT.txt\"\n",
    "outdir = '/Users/hannaschmueck/Documents/GitHub/NLPink/NLPink/input_texts_AT/'"
   ]
  },
  {
   "cell_type": "code",
   "execution_count": 8,
   "metadata": {},
   "outputs": [],
   "source": [
    "def get_txt_files(directory):\n",
    "    txt_files = []\n",
    "    for year in ['2020', '2021', '2022']:\n",
    "        year_dir = os.path.join(indir, year)\n",
    "        if os.path.exists(year_dir):\n",
    "            txt_files.extend(glob.glob(os.path.join(year_dir, '**/*.txt'), recursive=True))\n",
    "    return txt_files\n",
    "\n",
    "txt_files = get_txt_files(dir)"
   ]
  },
  {
   "cell_type": "code",
   "execution_count": 16,
   "metadata": {},
   "outputs": [],
   "source": [
    "counter = 0\n",
    "for file in txt_files:\n",
    "    with open(file, 'r') as f:\n",
    "        text = f.read()\n",
    "    turns  = re.split('ParlaMint-.+\t', text)\n",
    "    for i, turn in enumerate(turns):\n",
    "        counter +=1\n",
    "        if counter < 501:\n",
    "            outfile = os.path.basename(file).replace('.txt', '_turn_{}.txt'.format(i))\n",
    "            with open(outdir+outfile, 'w') as f:\n",
    "                f.write(turn)"
   ]
  },
  {
   "cell_type": "code",
   "execution_count": 17,
   "metadata": {},
   "outputs": [],
   "source": [
    "def zip_directory(directory_path, zip_path):\n",
    "    with zipfile.ZipFile(zip_path, 'w') as zip_file:\n",
    "        for root, dirs, files in os.walk(directory_path):\n",
    "            for file in files:\n",
    "                file_path = os.path.join(root, file)\n",
    "                zip_file.write(file_path, os.path.relpath(file_path, directory_path))\n",
    "\n",
    "\n",
    "directory_path = '/Users/hannaschmueck/Documents/GitHub/NLPink/NLPink/input_texts_AT'\n",
    "zip_path = 'AT.zip'\n",
    "zip_directory(directory_path, zip_path)"
   ]
  }
 ],
 "metadata": {
  "kernelspec": {
   "display_name": "Python 3",
   "language": "python",
   "name": "python3"
  },
  "language_info": {
   "codemirror_mode": {
    "name": "ipython",
    "version": 3
   },
   "file_extension": ".py",
   "mimetype": "text/x-python",
   "name": "python",
   "nbconvert_exporter": "python",
   "pygments_lexer": "ipython3",
   "version": "3.11.1"
  }
 },
 "nbformat": 4,
 "nbformat_minor": 2
}
