{
 "cells": [
  {
   "cell_type": "markdown",
   "metadata": {},
   "source": [
    "Dataprocessing Pipeline"
   ]
  },
  {
   "cell_type": "code",
   "execution_count": 2,
   "metadata": {},
   "outputs": [],
   "source": [
    "import re\n",
    "import os\n",
    "import glob\n",
    "import zipfile\n",
    "\n",
    "indir = r\"C:\\Users\\Yahdii\\OneDrive\\Desktop\\USS2024\\ParlaMint-GB\"\n",
    "outdir = r\"C:\\Users\\Yahdii\\OneDrive\\Desktop\\USS2024\\ParlaMint-GB-clean\""
   ]
  },
  {
   "cell_type": "code",
   "execution_count": 3,
   "metadata": {},
   "outputs": [],
   "source": [
    "def get_txt_files(directory):\n",
    "    txt_files = []\n",
    "    for year in ['2020', '2021', '2022']:\n",
    "        year_dir = os.path.join(directory, year)\n",
    "        if os.path.exists(year_dir):\n",
    "            txt_files.extend(glob.glob(os.path.join(year_dir, '**/*.txt'), recursive=True))\n",
    "    return txt_files\n",
    "\n",
    "txt_files = get_txt_files(indir)"
   ]
  },
  {
   "cell_type": "code",
   "execution_count": 4,
   "metadata": {},
   "outputs": [],
   "source": [
    "for file in txt_files:\n",
    "    with open(file, 'r') as f:\n",
    "        text = f.read()\n",
    "    print(text)\n",
    "    turns  = re.split('ParlaMint-.+\t', text)\n",
    "    print(len(turns))\n",
    "    for i, turn in enumerate(turns):\n",
    "        print(file)\n",
    "        \n",
    "        outfile = os.path.basename(file).replace('.txt', '_turn_{}.txt'.format(i))\n",
    "        with open(outdir+outfile, 'w') as f:\n",
    "            f.write(turn)\n"
   ]
  },
  {
   "cell_type": "code",
   "execution_count": 5,
   "metadata": {},
   "outputs": [],
   "source": [
    "def zip_directory(directory_path, zip_path):\n",
    "    with zipfile.ZipFile(zip_path, 'w') as zip_file:\n",
    "        for root, dirs, files in os.walk(directory_path):\n",
    "            for file in files:\n",
    "                file_path = os.path.join(root, file)\n",
    "                zip_file.write(file_path, os.path.relpath(file_path, directory_path))\n",
    "\n",
    "\n",
    "directory_path = outdir\n",
    "zip_path = 'GB.zip'\n",
    "zip_directory(directory_path, zip_path)"
   ]
  }
 ],
 "metadata": {
  "kernelspec": {
   "display_name": "Python 3",
   "language": "python",
   "name": "python3"
  },
  "language_info": {
   "codemirror_mode": {
    "name": "ipython",
    "version": 3
   },
   "file_extension": ".py",
   "mimetype": "text/x-python",
   "name": "python",
   "nbconvert_exporter": "python",
   "pygments_lexer": "ipython3",
   "version": "3.11.5"
  }
 },
 "nbformat": 4,
 "nbformat_minor": 2
}
