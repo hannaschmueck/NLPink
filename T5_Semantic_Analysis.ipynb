{
  "cells": [
    {
      "cell_type": "markdown",
      "metadata": {
        "id": "view-in-github",
        "colab_type": "text"
      },
      "source": [
        "<a href=\"https://colab.research.google.com/github/UCREL/Session-6-LLM-Based-Emotion-Analysis/blob/main/tutorial.ipynb\" target=\"_parent\"><img src=\"https://colab.research.google.com/assets/colab-badge.svg\" alt=\"Open In Colab\"/></a>"
      ]
    },
    {
      "cell_type": "markdown",
      "metadata": {
        "id": "bhrm-cinvBPZ"
      },
      "source": [
        "![](https://github.com/UCREL/Session-6-LLM-Based-Emotion-Analysis/blob/main/banner_llm4emotions_summer_school.png?raw=1)"
      ]
    },
    {
      "cell_type": "markdown",
      "metadata": {
        "id": "HfrP_vfnfBe6"
      },
      "source": [
        "# **Introduction**\n",
        "With the advent the transformer based of large language models (LLMs) such as BERT, LLAMA, Gemini etc., the NLP community has tapped into these models for developing new techniques and methodologies for a wide range of NLP tasks. One key NLP task that can benefit from such resources is the Emotion Analysis, which is a highly challenging NLP task.  \n",
        "\n",
        "In this tutorial, we will learn how to:\n",
        "1. **Apply LLMs to emotion classification tasks**\n",
        "2. **Evaluate the performance of different models**\n",
        "3. **Fine-tune a model to perform better on specific classification tasks**\n",
        "\n",
        "To achieve the objectives above, we will follow the steps below:\n",
        "\n",
        "- [**Section 1: Preamble**](#preamble) - download tutorial materials and set path to working folder.\n",
        "\n",
        "- [**Section 2: Emotion Dataset Analysis**](#dataset-analysis) - load and analyse example emotion dataset.\n",
        "\n",
        "- [**Section 3: Emotion Classification**](#classification) - perform emotion classification with existing models.\n",
        "\n",
        "- [**Section 4: Model Evaluation**](#evaluation) - evaluate model performances on the dataset.\n",
        "\n",
        "- [**Section 5: Guide to Model Fine-tuning**](#fine-tuning) - a quick guide to fine-tuning an emotion LLM."
      ]
    },
    {
      "cell_type": "markdown",
      "metadata": {
        "id": "6KC2atDJaYoj"
      },
      "source": [
        "<a name=\"preamble\"></a>\n",
        "# **Section 1: Preamble**"
      ]
    },
    {
      "cell_type": "markdown",
      "metadata": {
        "id": "oPx92G2yULRZ"
      },
      "source": [
        "## Downloading materials\n",
        "To start, you need to download the materials required for this tutorial into our CoLab space. These include the datasets and the python scripts required to perform other tasks.\n",
        "\n",
        "Let's walk you through the process with the following exercise...\n",
        "\n",
        "---"
      ]
    },
    {
      "cell_type": "markdown",
      "metadata": {
        "id": "uUEmFWGk2k2Z"
      },
      "source": [
        "### **Exercise: 🏋️**\n",
        "Copy and paste these two lines of code to download materials from this session's [GitHub repo](https://github.com/UCREL/Session-6-LLM-Based-Emotion-Analysis/tree/main) and then change into our working directory `Session-6-LLM-Based-Emotion-Analysis`"
      ]
    },
    {
      "cell_type": "markdown",
      "metadata": {
        "id": "3dEplEtm3thQ"
      },
      "source": [
        "#### **1. Clone the repository:**\n",
        "```python\n",
        "!git clone https://github.com/UCREL/Session-6-LLM-Based-Emotion-Analysis.git\n",
        "```"
      ]
    },
    {
      "cell_type": "code",
      "execution_count": 1,
      "metadata": {
        "id": "PoVECo_9iRbm",
        "colab": {
          "base_uri": "https://localhost:8080/"
        },
        "outputId": "b0b4bcd0-7d4c-4256-99ef-3d599d1ea59c"
      },
      "outputs": [
        {
          "output_type": "stream",
          "name": "stdout",
          "text": [
            "Cloning into 'Session-6-LLM-Based-Emotion-Analysis'...\n",
            "remote: Enumerating objects: 104, done.\u001b[K\n",
            "remote: Counting objects: 100% (104/104), done.\u001b[K\n",
            "remote: Compressing objects: 100% (84/84), done.\u001b[K\n",
            "remote: Total 104 (delta 51), reused 51 (delta 16), pack-reused 0\u001b[K\n",
            "Receiving objects: 100% (104/104), 1.85 MiB | 7.87 MiB/s, done.\n",
            "Resolving deltas: 100% (51/51), done.\n"
          ]
        }
      ],
      "source": [
        "# @title ##### 🚴‍♂️ Clone the repository [Copy the code above and paste below 👇]:\n",
        "!git clone https://github.com/UCREL/Session-6-LLM-Based-Emotion-Analysis.git"
      ]
    },
    {
      "cell_type": "markdown",
      "metadata": {
        "id": "EuPqybZ53Ogn"
      },
      "source": [
        "#### **2. Change into the working directory:**\n",
        "```python\n",
        "%cd Session-6-LLM-Based-Emotion-Analysis\n",
        "```"
      ]
    },
    {
      "cell_type": "code",
      "execution_count": 2,
      "metadata": {
        "id": "M7gOTu3c5M-7",
        "colab": {
          "base_uri": "https://localhost:8080/"
        },
        "outputId": "8baaae6e-658f-44b1-9acf-3d77499188af"
      },
      "outputs": [
        {
          "output_type": "stream",
          "name": "stdout",
          "text": [
            "/content/Session-6-LLM-Based-Emotion-Analysis\n"
          ]
        }
      ],
      "source": [
        "# @title ##### 🚴‍♂️ Change into the working directory [Copy the code above and paste below 👇]:\n",
        "%cd Session-6-LLM-Based-Emotion-Analysis"
      ]
    },
    {
      "cell_type": "markdown",
      "metadata": {
        "id": "x1_I3pSK5IdH"
      },
      "source": [
        "---"
      ]
    },
    {
      "cell_type": "markdown",
      "metadata": {
        "id": "ycUiR2cnA-Ob"
      },
      "source": [
        "<a name=\"dataset-analysis\"></a>\n",
        "# **Section 2: Analyse Emotion Dataset**"
      ]
    },
    {
      "cell_type": "markdown",
      "metadata": {
        "id": "35pbVj7N7NTt"
      },
      "source": [
        "Now we have everything we need here, let's begin by defining the functions we need to read input data stored as csv files and analyse them.\n",
        "\n",
        "We use Python library `pandas` and `matplotlib`  for this purpose."
      ]
    },
    {
      "cell_type": "code",
      "execution_count": 3,
      "metadata": {
        "cellView": "form",
        "id": "acew71KyM5fE"
      },
      "outputs": [],
      "source": [
        "# @title ###### **Define functions**\n",
        "import pandas as pd\n",
        "import matplotlib.pyplot as plt\n",
        "import seaborn as sns\n",
        "\n",
        "def load_dataset():\n",
        "  train = pd.read_csv(\"./sample_data/train.csv\")\n",
        "  val = pd.read_csv(\"./sample_data/val.csv\")\n",
        "  test = pd.read_csv(\"./sample_data/test.csv\")\n",
        "  return {'train': train, 'val': val, 'test': test}\n",
        "\n",
        "def plot_data_distribution(df, ax, xlabel=None, ylabel=None, category='emotion', kind='bar'):\n",
        "  df.groupby(category).size().plot(\n",
        "      kind=kind, color=sns.palettes.mpl_palette('Dark2'), ax=ax,\n",
        "      xlabel=xlabel, ylabel=ylabel, figsize=(15, 5))\n",
        "  ax.spines[['top', 'right',]].set_visible(False)"
      ]
    },
    {
      "cell_type": "code",
      "execution_count": 4,
      "metadata": {
        "cellView": "form",
        "colab": {
          "base_uri": "https://localhost:8080/"
        },
        "id": "N_pYYeMRp7ya",
        "outputId": "d967ca80-ab50-456a-c5ca-f2120f85ec3f"
      },
      "outputs": [
        {
          "output_type": "stream",
          "name": "stdout",
          "text": [
            "   Training data: 2100\n",
            " Validation data: 700       \n",
            "    Testing data: 700\n",
            "Combined dataset: 3500\n"
          ]
        }
      ],
      "source": [
        "# @title ##### **Loading and Analysing Emotion Data**\n",
        "dataset = load_dataset()\n",
        "combined_dataset = pd.concat([dataset['train'], dataset['val'], dataset['test']])\n",
        "\n",
        "print(f\"{'Training data':>16}: {len(dataset['train'])}\\n{'Validation data':>16}: {len(dataset['val'])} \\\n",
        "      \\n{'Testing data':>16}: {len(dataset['test'])}\\n{'Combined dataset':>16}: {len(combined_dataset)}\")"
      ]
    },
    {
      "cell_type": "markdown",
      "metadata": {
        "id": "-Xhaya6Ukure"
      },
      "source": [
        "There are several different emotion classification schemes. In this tutorial, we will use Ekman emotion scheme, which has 7 emotion categories (including neutral category). The emotion category labels and their index IDs are shown below:\n",
        "\n",
        "Type | Categories\n",
        "--- | ---\n",
        "**Ekman (7 labels)** | 0: 'anger', 1: 'disgust', 2: 'fear', 3: 'joy', 4: 'neutral', 5: 'sadness', 6: 'surprise'\n",
        "\n",
        "\n",
        "The sample dataset is from <a href='https://huggingface.co/datasets/google-research-datasets/go_emotions'>GoEmotion dataset</a>. The dataset is annotated using the GoEmotion classification scheme (contain 28 emotion categories including neutral category). We mapped GoEmotion categories into the Ekman's seven categories for this tutorial.\n",
        "\n",
        "In this tutorial, we will guide you through emotion classification and LLM fine-tuning based on Ekman's scheme.\n"
      ]
    },
    {
      "cell_type": "code",
      "execution_count": 9,
      "metadata": {
        "colab": {
          "base_uri": "https://localhost:8080/",
          "height": 424
        },
        "id": "Oyv1J5AWuAn4",
        "outputId": "148b23b3-7b64-4feb-c181-52e7ba92080b"
      },
      "outputs": [
        {
          "output_type": "execute_result",
          "data": {
            "text/plain": [
              "                                                  text   emotion  index\n",
              "0    You have no right to be there waiting to be nu...     anger      0\n",
              "1    Dude, y'all anti American scum don't even beli...     anger      0\n",
              "2    I was just scrolling down and I screamed when ...     anger      0\n",
              "3                                             Burn it!     anger      0\n",
              "4    But milk is beta food! Who wants that girly as...     anger      0\n",
              "..                                                 ...       ...    ...\n",
              "695                 Wonder how the iPhones working out  surprise      6\n",
              "696  Really? Cuz hella 18 year olds with bad grades...  surprise      6\n",
              "697  Talk to your grandparents... you will be surpr...  surprise      6\n",
              "698  Or take it further: Try showering with just ho...  surprise      6\n",
              "699  I wonder if, as an added bonus, [NAME] ended t...  surprise      6\n",
              "\n",
              "[3500 rows x 3 columns]"
            ],
            "text/html": [
              "\n",
              "  <div id=\"df-5ef8baea-845e-4118-966e-14166540fe3e\" class=\"colab-df-container\">\n",
              "    <div>\n",
              "<style scoped>\n",
              "    .dataframe tbody tr th:only-of-type {\n",
              "        vertical-align: middle;\n",
              "    }\n",
              "\n",
              "    .dataframe tbody tr th {\n",
              "        vertical-align: top;\n",
              "    }\n",
              "\n",
              "    .dataframe thead th {\n",
              "        text-align: right;\n",
              "    }\n",
              "</style>\n",
              "<table border=\"1\" class=\"dataframe\">\n",
              "  <thead>\n",
              "    <tr style=\"text-align: right;\">\n",
              "      <th></th>\n",
              "      <th>text</th>\n",
              "      <th>emotion</th>\n",
              "      <th>index</th>\n",
              "    </tr>\n",
              "  </thead>\n",
              "  <tbody>\n",
              "    <tr>\n",
              "      <th>0</th>\n",
              "      <td>You have no right to be there waiting to be nu...</td>\n",
              "      <td>anger</td>\n",
              "      <td>0</td>\n",
              "    </tr>\n",
              "    <tr>\n",
              "      <th>1</th>\n",
              "      <td>Dude, y'all anti American scum don't even beli...</td>\n",
              "      <td>anger</td>\n",
              "      <td>0</td>\n",
              "    </tr>\n",
              "    <tr>\n",
              "      <th>2</th>\n",
              "      <td>I was just scrolling down and I screamed when ...</td>\n",
              "      <td>anger</td>\n",
              "      <td>0</td>\n",
              "    </tr>\n",
              "    <tr>\n",
              "      <th>3</th>\n",
              "      <td>Burn it!</td>\n",
              "      <td>anger</td>\n",
              "      <td>0</td>\n",
              "    </tr>\n",
              "    <tr>\n",
              "      <th>4</th>\n",
              "      <td>But milk is beta food! Who wants that girly as...</td>\n",
              "      <td>anger</td>\n",
              "      <td>0</td>\n",
              "    </tr>\n",
              "    <tr>\n",
              "      <th>...</th>\n",
              "      <td>...</td>\n",
              "      <td>...</td>\n",
              "      <td>...</td>\n",
              "    </tr>\n",
              "    <tr>\n",
              "      <th>695</th>\n",
              "      <td>Wonder how the iPhones working out</td>\n",
              "      <td>surprise</td>\n",
              "      <td>6</td>\n",
              "    </tr>\n",
              "    <tr>\n",
              "      <th>696</th>\n",
              "      <td>Really? Cuz hella 18 year olds with bad grades...</td>\n",
              "      <td>surprise</td>\n",
              "      <td>6</td>\n",
              "    </tr>\n",
              "    <tr>\n",
              "      <th>697</th>\n",
              "      <td>Talk to your grandparents... you will be surpr...</td>\n",
              "      <td>surprise</td>\n",
              "      <td>6</td>\n",
              "    </tr>\n",
              "    <tr>\n",
              "      <th>698</th>\n",
              "      <td>Or take it further: Try showering with just ho...</td>\n",
              "      <td>surprise</td>\n",
              "      <td>6</td>\n",
              "    </tr>\n",
              "    <tr>\n",
              "      <th>699</th>\n",
              "      <td>I wonder if, as an added bonus, [NAME] ended t...</td>\n",
              "      <td>surprise</td>\n",
              "      <td>6</td>\n",
              "    </tr>\n",
              "  </tbody>\n",
              "</table>\n",
              "<p>3500 rows × 3 columns</p>\n",
              "</div>\n",
              "    <div class=\"colab-df-buttons\">\n",
              "\n",
              "  <div class=\"colab-df-container\">\n",
              "    <button class=\"colab-df-convert\" onclick=\"convertToInteractive('df-5ef8baea-845e-4118-966e-14166540fe3e')\"\n",
              "            title=\"Convert this dataframe to an interactive table.\"\n",
              "            style=\"display:none;\">\n",
              "\n",
              "  <svg xmlns=\"http://www.w3.org/2000/svg\" height=\"24px\" viewBox=\"0 -960 960 960\">\n",
              "    <path d=\"M120-120v-720h720v720H120Zm60-500h600v-160H180v160Zm220 220h160v-160H400v160Zm0 220h160v-160H400v160ZM180-400h160v-160H180v160Zm440 0h160v-160H620v160ZM180-180h160v-160H180v160Zm440 0h160v-160H620v160Z\"/>\n",
              "  </svg>\n",
              "    </button>\n",
              "\n",
              "  <style>\n",
              "    .colab-df-container {\n",
              "      display:flex;\n",
              "      gap: 12px;\n",
              "    }\n",
              "\n",
              "    .colab-df-convert {\n",
              "      background-color: #E8F0FE;\n",
              "      border: none;\n",
              "      border-radius: 50%;\n",
              "      cursor: pointer;\n",
              "      display: none;\n",
              "      fill: #1967D2;\n",
              "      height: 32px;\n",
              "      padding: 0 0 0 0;\n",
              "      width: 32px;\n",
              "    }\n",
              "\n",
              "    .colab-df-convert:hover {\n",
              "      background-color: #E2EBFA;\n",
              "      box-shadow: 0px 1px 2px rgba(60, 64, 67, 0.3), 0px 1px 3px 1px rgba(60, 64, 67, 0.15);\n",
              "      fill: #174EA6;\n",
              "    }\n",
              "\n",
              "    .colab-df-buttons div {\n",
              "      margin-bottom: 4px;\n",
              "    }\n",
              "\n",
              "    [theme=dark] .colab-df-convert {\n",
              "      background-color: #3B4455;\n",
              "      fill: #D2E3FC;\n",
              "    }\n",
              "\n",
              "    [theme=dark] .colab-df-convert:hover {\n",
              "      background-color: #434B5C;\n",
              "      box-shadow: 0px 1px 3px 1px rgba(0, 0, 0, 0.15);\n",
              "      filter: drop-shadow(0px 1px 2px rgba(0, 0, 0, 0.3));\n",
              "      fill: #FFFFFF;\n",
              "    }\n",
              "  </style>\n",
              "\n",
              "    <script>\n",
              "      const buttonEl =\n",
              "        document.querySelector('#df-5ef8baea-845e-4118-966e-14166540fe3e button.colab-df-convert');\n",
              "      buttonEl.style.display =\n",
              "        google.colab.kernel.accessAllowed ? 'block' : 'none';\n",
              "\n",
              "      async function convertToInteractive(key) {\n",
              "        const element = document.querySelector('#df-5ef8baea-845e-4118-966e-14166540fe3e');\n",
              "        const dataTable =\n",
              "          await google.colab.kernel.invokeFunction('convertToInteractive',\n",
              "                                                    [key], {});\n",
              "        if (!dataTable) return;\n",
              "\n",
              "        const docLinkHtml = 'Like what you see? Visit the ' +\n",
              "          '<a target=\"_blank\" href=https://colab.research.google.com/notebooks/data_table.ipynb>data table notebook</a>'\n",
              "          + ' to learn more about interactive tables.';\n",
              "        element.innerHTML = '';\n",
              "        dataTable['output_type'] = 'display_data';\n",
              "        await google.colab.output.renderOutput(dataTable, element);\n",
              "        const docLink = document.createElement('div');\n",
              "        docLink.innerHTML = docLinkHtml;\n",
              "        element.appendChild(docLink);\n",
              "      }\n",
              "    </script>\n",
              "  </div>\n",
              "\n",
              "\n",
              "<div id=\"df-c9a83e02-5af0-4e74-9c91-6a4eefe99d26\">\n",
              "  <button class=\"colab-df-quickchart\" onclick=\"quickchart('df-c9a83e02-5af0-4e74-9c91-6a4eefe99d26')\"\n",
              "            title=\"Suggest charts\"\n",
              "            style=\"display:none;\">\n",
              "\n",
              "<svg xmlns=\"http://www.w3.org/2000/svg\" height=\"24px\"viewBox=\"0 0 24 24\"\n",
              "     width=\"24px\">\n",
              "    <g>\n",
              "        <path d=\"M19 3H5c-1.1 0-2 .9-2 2v14c0 1.1.9 2 2 2h14c1.1 0 2-.9 2-2V5c0-1.1-.9-2-2-2zM9 17H7v-7h2v7zm4 0h-2V7h2v10zm4 0h-2v-4h2v4z\"/>\n",
              "    </g>\n",
              "</svg>\n",
              "  </button>\n",
              "\n",
              "<style>\n",
              "  .colab-df-quickchart {\n",
              "      --bg-color: #E8F0FE;\n",
              "      --fill-color: #1967D2;\n",
              "      --hover-bg-color: #E2EBFA;\n",
              "      --hover-fill-color: #174EA6;\n",
              "      --disabled-fill-color: #AAA;\n",
              "      --disabled-bg-color: #DDD;\n",
              "  }\n",
              "\n",
              "  [theme=dark] .colab-df-quickchart {\n",
              "      --bg-color: #3B4455;\n",
              "      --fill-color: #D2E3FC;\n",
              "      --hover-bg-color: #434B5C;\n",
              "      --hover-fill-color: #FFFFFF;\n",
              "      --disabled-bg-color: #3B4455;\n",
              "      --disabled-fill-color: #666;\n",
              "  }\n",
              "\n",
              "  .colab-df-quickchart {\n",
              "    background-color: var(--bg-color);\n",
              "    border: none;\n",
              "    border-radius: 50%;\n",
              "    cursor: pointer;\n",
              "    display: none;\n",
              "    fill: var(--fill-color);\n",
              "    height: 32px;\n",
              "    padding: 0;\n",
              "    width: 32px;\n",
              "  }\n",
              "\n",
              "  .colab-df-quickchart:hover {\n",
              "    background-color: var(--hover-bg-color);\n",
              "    box-shadow: 0 1px 2px rgba(60, 64, 67, 0.3), 0 1px 3px 1px rgba(60, 64, 67, 0.15);\n",
              "    fill: var(--button-hover-fill-color);\n",
              "  }\n",
              "\n",
              "  .colab-df-quickchart-complete:disabled,\n",
              "  .colab-df-quickchart-complete:disabled:hover {\n",
              "    background-color: var(--disabled-bg-color);\n",
              "    fill: var(--disabled-fill-color);\n",
              "    box-shadow: none;\n",
              "  }\n",
              "\n",
              "  .colab-df-spinner {\n",
              "    border: 2px solid var(--fill-color);\n",
              "    border-color: transparent;\n",
              "    border-bottom-color: var(--fill-color);\n",
              "    animation:\n",
              "      spin 1s steps(1) infinite;\n",
              "  }\n",
              "\n",
              "  @keyframes spin {\n",
              "    0% {\n",
              "      border-color: transparent;\n",
              "      border-bottom-color: var(--fill-color);\n",
              "      border-left-color: var(--fill-color);\n",
              "    }\n",
              "    20% {\n",
              "      border-color: transparent;\n",
              "      border-left-color: var(--fill-color);\n",
              "      border-top-color: var(--fill-color);\n",
              "    }\n",
              "    30% {\n",
              "      border-color: transparent;\n",
              "      border-left-color: var(--fill-color);\n",
              "      border-top-color: var(--fill-color);\n",
              "      border-right-color: var(--fill-color);\n",
              "    }\n",
              "    40% {\n",
              "      border-color: transparent;\n",
              "      border-right-color: var(--fill-color);\n",
              "      border-top-color: var(--fill-color);\n",
              "    }\n",
              "    60% {\n",
              "      border-color: transparent;\n",
              "      border-right-color: var(--fill-color);\n",
              "    }\n",
              "    80% {\n",
              "      border-color: transparent;\n",
              "      border-right-color: var(--fill-color);\n",
              "      border-bottom-color: var(--fill-color);\n",
              "    }\n",
              "    90% {\n",
              "      border-color: transparent;\n",
              "      border-bottom-color: var(--fill-color);\n",
              "    }\n",
              "  }\n",
              "</style>\n",
              "\n",
              "  <script>\n",
              "    async function quickchart(key) {\n",
              "      const quickchartButtonEl =\n",
              "        document.querySelector('#' + key + ' button');\n",
              "      quickchartButtonEl.disabled = true;  // To prevent multiple clicks.\n",
              "      quickchartButtonEl.classList.add('colab-df-spinner');\n",
              "      try {\n",
              "        const charts = await google.colab.kernel.invokeFunction(\n",
              "            'suggestCharts', [key], {});\n",
              "      } catch (error) {\n",
              "        console.error('Error during call to suggestCharts:', error);\n",
              "      }\n",
              "      quickchartButtonEl.classList.remove('colab-df-spinner');\n",
              "      quickchartButtonEl.classList.add('colab-df-quickchart-complete');\n",
              "    }\n",
              "    (() => {\n",
              "      let quickchartButtonEl =\n",
              "        document.querySelector('#df-c9a83e02-5af0-4e74-9c91-6a4eefe99d26 button');\n",
              "      quickchartButtonEl.style.display =\n",
              "        google.colab.kernel.accessAllowed ? 'block' : 'none';\n",
              "    })();\n",
              "  </script>\n",
              "</div>\n",
              "\n",
              "  <div id=\"id_6af33d11-f410-4624-a9c7-a39920f565f1\">\n",
              "    <style>\n",
              "      .colab-df-generate {\n",
              "        background-color: #E8F0FE;\n",
              "        border: none;\n",
              "        border-radius: 50%;\n",
              "        cursor: pointer;\n",
              "        display: none;\n",
              "        fill: #1967D2;\n",
              "        height: 32px;\n",
              "        padding: 0 0 0 0;\n",
              "        width: 32px;\n",
              "      }\n",
              "\n",
              "      .colab-df-generate:hover {\n",
              "        background-color: #E2EBFA;\n",
              "        box-shadow: 0px 1px 2px rgba(60, 64, 67, 0.3), 0px 1px 3px 1px rgba(60, 64, 67, 0.15);\n",
              "        fill: #174EA6;\n",
              "      }\n",
              "\n",
              "      [theme=dark] .colab-df-generate {\n",
              "        background-color: #3B4455;\n",
              "        fill: #D2E3FC;\n",
              "      }\n",
              "\n",
              "      [theme=dark] .colab-df-generate:hover {\n",
              "        background-color: #434B5C;\n",
              "        box-shadow: 0px 1px 3px 1px rgba(0, 0, 0, 0.15);\n",
              "        filter: drop-shadow(0px 1px 2px rgba(0, 0, 0, 0.3));\n",
              "        fill: #FFFFFF;\n",
              "      }\n",
              "    </style>\n",
              "    <button class=\"colab-df-generate\" onclick=\"generateWithVariable('combined_dataset')\"\n",
              "            title=\"Generate code using this dataframe.\"\n",
              "            style=\"display:none;\">\n",
              "\n",
              "  <svg xmlns=\"http://www.w3.org/2000/svg\" height=\"24px\"viewBox=\"0 0 24 24\"\n",
              "       width=\"24px\">\n",
              "    <path d=\"M7,19H8.4L18.45,9,17,7.55,7,17.6ZM5,21V16.75L18.45,3.32a2,2,0,0,1,2.83,0l1.4,1.43a1.91,1.91,0,0,1,.58,1.4,1.91,1.91,0,0,1-.58,1.4L9.25,21ZM18.45,9,17,7.55Zm-12,3A5.31,5.31,0,0,0,4.9,8.1,5.31,5.31,0,0,0,1,6.5,5.31,5.31,0,0,0,4.9,4.9,5.31,5.31,0,0,0,6.5,1,5.31,5.31,0,0,0,8.1,4.9,5.31,5.31,0,0,0,12,6.5,5.46,5.46,0,0,0,6.5,12Z\"/>\n",
              "  </svg>\n",
              "    </button>\n",
              "    <script>\n",
              "      (() => {\n",
              "      const buttonEl =\n",
              "        document.querySelector('#id_6af33d11-f410-4624-a9c7-a39920f565f1 button.colab-df-generate');\n",
              "      buttonEl.style.display =\n",
              "        google.colab.kernel.accessAllowed ? 'block' : 'none';\n",
              "\n",
              "      buttonEl.onclick = () => {\n",
              "        google.colab.notebook.generateWithVariable('combined_dataset');\n",
              "      }\n",
              "      })();\n",
              "    </script>\n",
              "  </div>\n",
              "\n",
              "    </div>\n",
              "  </div>\n"
            ],
            "application/vnd.google.colaboratory.intrinsic+json": {
              "type": "dataframe",
              "variable_name": "combined_dataset",
              "summary": "{\n  \"name\": \"combined_dataset\",\n  \"rows\": 3500,\n  \"fields\": [\n    {\n      \"column\": \"text\",\n      \"properties\": {\n        \"dtype\": \"string\",\n        \"num_unique_values\": 3493,\n        \"samples\": [\n          \"Can\\u2019t believe we\\u2019re letting [NAME] go. So much energy since he\\u2019s come on.\",\n          \"It usually comes out after people catch me dissociating.\",\n          \"I always cry when [NAME] is on screen.\"\n        ],\n        \"semantic_type\": \"\",\n        \"description\": \"\"\n      }\n    },\n    {\n      \"column\": \"emotion\",\n      \"properties\": {\n        \"dtype\": \"category\",\n        \"num_unique_values\": 7,\n        \"samples\": [\n          \"anger\",\n          \"disgust\",\n          \"sadness\"\n        ],\n        \"semantic_type\": \"\",\n        \"description\": \"\"\n      }\n    },\n    {\n      \"column\": \"index\",\n      \"properties\": {\n        \"dtype\": \"number\",\n        \"std\": 2,\n        \"min\": 0,\n        \"max\": 6,\n        \"num_unique_values\": 7,\n        \"samples\": [\n          0,\n          1,\n          5\n        ],\n        \"semantic_type\": \"\",\n        \"description\": \"\"\n      }\n    }\n  ]\n}"
            }
          },
          "metadata": {},
          "execution_count": 9
        }
      ],
      "source": [
        "# @title ##### **Here's the dataframe of our combined dataset...** <br>You can view slices as desired (e.g. `combined_dataset[:100]` for the top 100)\n",
        "combined_dataset"
      ]
    },
    {
      "cell_type": "markdown",
      "metadata": {
        "id": "5m-U9zYVyCKI"
      },
      "source": [
        "Let's look at the distribution of Ekman's emotion categories in each dataset."
      ]
    },
    {
      "cell_type": "code",
      "execution_count": 10,
      "metadata": {
        "colab": {
          "base_uri": "https://localhost:8080/",
          "height": 512
        },
        "id": "5OxVV0-atl1r",
        "outputId": "4498d569-d5f9-47f4-9b4e-89401e6c632c"
      },
      "outputs": [
        {
          "output_type": "display_data",
          "data": {
            "text/plain": [
              "<Figure size 1500x500 with 3 Axes>"
            ],
            "image/png": "[encoded data removed]"
          },
          "metadata": {}
        }
      ],
      "source": [
        "fig, axes = plt.subplots(1, 3, figsize=(1, 5))\n",
        "fig.suptitle('Ekman Labels Distribution')\n",
        "plot_data_distribution(df=dataset['train'], ax=axes[0], xlabel='train data')\n",
        "plot_data_distribution(df=dataset['val'],   ax=axes[1], xlabel='validation data')\n",
        "plot_data_distribution(df=dataset['test'],  ax=axes[2], xlabel='test data')\n",
        "plt.tight_layout()"
      ]
    },
    {
      "cell_type": "markdown",
      "metadata": {
        "id": "NpQNEWeTULRZ"
      },
      "source": [
        "<a name=\"classification\"></a>\n",
        "# **Section 3: Emotion Classification**"
      ]
    },
    {
      "cell_type": "markdown",
      "metadata": {
        "id": "8_LHnlULULRb"
      },
      "source": [
        "\n",
        "This section shows you how to classify emotions using BERT and T5 models (available at <a herf=\"https://huggingface.co/\">Hugging Face</a>). The text classification involves two main processes:</br>\n",
        "\n",
        "*  Data pre-processing - transforms input data to required input format and tokenises text (maps each word a word id) to create a vector.\n",
        "*  Text classification - passes the input text vector to an emotion classifier to identify emotion categories.\n",
        "\n",
        "The following steps show how to tokenize text and create emotion classifiers based on BERT and T5."
      ]
    },
    {
      "cell_type": "markdown",
      "metadata": {
        "id": "tOgGiegmyCKI"
      },
      "source": [
        "Install and import required packages."
      ]
    },
    {
      "cell_type": "code",
      "execution_count": null,
      "metadata": {
        "id": "Kp_DW6ReyCKJ"
      },
      "outputs": [],
      "source": [
        "!pip install pytorch_lightning\n",
        "!pip install csv-logger\n",
        "!pip install lightning"
      ]
    },
    {
      "cell_type": "code",
      "execution_count": null,
      "metadata": {
        "id": "gjv7LY-fyCKJ"
      },
      "outputs": [],
      "source": [
        "from transformers import BertModel\n",
        "from transformers import BertTokenizer\n",
        "from transformers import T5Tokenizer, T5ForConditionalGeneration\n",
        "from torch.utils.data import DataLoader, Dataset\n",
        "from torch import nn\n",
        "import pytorch_lightning as pl\n",
        "import torch\n",
        "from lightning.pytorch.loggers import CSVLogger\n",
        "from transformers import AdamW, get_linear_schedule_with_warmup\n",
        "from transformers import AutoTokenizer, AutoModelForSequenceClassification, Trainer, AutoModelWithLMHead"
      ]
    },
    {
      "cell_type": "markdown",
      "metadata": {
        "id": "nL1oBAkxyCKJ"
      },
      "source": [
        "The code below checks availablity of processors (CPU or GPU) in CoLab space."
      ]
    },
    {
      "cell_type": "code",
      "execution_count": null,
      "metadata": {
        "id": "ICy1Ph6WyCKJ",
        "outputId": "e5449b47-ca7c-40ef-9b45-3dba1a8cae96"
      },
      "outputs": [
        {
          "data": {
            "text/plain": [
              "device(type='cuda')"
            ]
          },
          "execution_count": 7,
          "metadata": {},
          "output_type": "execute_result"
        }
      ],
      "source": [
        "# cuda means GPU is available\n",
        "device = torch.device('cuda' if torch.cuda.is_available() else 'cpu')\n",
        "device"
      ]
    },
    {
      "cell_type": "markdown",
      "metadata": {
        "id": "Qthpn6eQyCKJ"
      },
      "source": [
        "## BERT Emotion Classifier\n",
        "\n",
        "Below we explain further technical details.  \n",
        "\n",
        "Firstly, we need to tokenise text and create emotion classifier. The first step is to create a Python class to store our data. We use ```torch``` ```Dataset```, which can be used to store text and their labels accessible using index IDs. Below id a sample code.  \n",
        "\n",
        "```python\n",
        "class BERTDataset(Dataset):\n",
        "    def __init__(self, df, datacolumn, labelcolumn):\n",
        "        self.data = df\n",
        "        self.texts = self.data[datacolumn].tolist()\n",
        "        self.labels = self.data[labelcolumn].tolist()\n",
        "\n",
        "    def __len__(self):\n",
        "        return(len(self.texts))\n",
        "```\n",
        "\n",
        "Here the ```BERTDataset``` class stores text and their labels in ```self.texts``` and ```self.labels``` respectively. The ```datacolumn``` and ```labelcolumn``` indicate from which columns the texts and labels are selected.\n"
      ]
    },
    {
      "cell_type": "markdown",
      "metadata": {
        "id": "yJv8Ez3zyCKJ"
      },
      "source": [
        "To access the data using index, we create ```__getitem__``` function for the ```Dataset``` class. This function can find a text and linked label for an index. Because we need tokenized text, we let the function to return a tokenized text instead, as shown below.\n",
        "\n",
        "```python\n",
        "def __getitem__(self,idx):\n",
        "        # get text and label by index\n",
        "        text = self.texts[idx]\n",
        "        label = self.labels[idx]\n",
        "        # tokenization\n",
        "        encoding = self.tokenizer.encode_plus(\n",
        "                                                text,\n",
        "                                                max_length = self.max_length,\n",
        "                                                add_special_tokens = True,\n",
        "                                                padding = 'max_length',\n",
        "                                                truncation = True,\n",
        "                                                return_attention_mask = True,\n",
        "                                                return_tensors = 'pt',)\n",
        "        # return tokenized text and its label\n",
        "        return {'input_ids': encoding['input_ids'].flatten(),\n",
        "                'attention_mask': encoding['attention_mask'].flatten(),\n",
        "                'label': torch.tensor(label),\n",
        "                }\n",
        "```"
      ]
    },
    {
      "cell_type": "markdown",
      "metadata": {
        "id": "9umpwSyJyCKJ"
      },
      "source": [
        "As we tokenize text in ```__getitem__``` function, we need to include tokenizer to our class as well. Thus, we modify ```BERTDataset``` class to put everything together. The complete ```BERTDataset``` class is shown below."
      ]
    },
    {
      "cell_type": "code",
      "execution_count": null,
      "metadata": {
        "id": "mlF1hoIXULRb"
      },
      "outputs": [],
      "source": [
        "class BERTDataset(Dataset):\n",
        "    def __init__(self, df, tokenizer, max_length, datacolumn, labelcolumn):\n",
        "        self.data = df\n",
        "        self.texts = self.data[datacolumn].tolist()\n",
        "        self.labels = self.data[labelcolumn].tolist()\n",
        "        # tokenizer and necessary parameters\n",
        "        self.tokenizer = tokenizer\n",
        "        self.max_length = max_length\n",
        "\n",
        "    def __len__(self):\n",
        "        return(len(self.texts))\n",
        "\n",
        "    def __getitem__(self,idx):\n",
        "        text = self.texts[idx]\n",
        "        label = self.labels[idx]\n",
        "        encoding = self.tokenizer.encode_plus(\n",
        "                                                text,\n",
        "                                                max_length = self.max_length,\n",
        "                                                add_special_tokens = True,\n",
        "                                                padding = 'max_length',\n",
        "                                                truncation = True,\n",
        "                                                return_attention_mask = True,\n",
        "                                                return_tensors = 'pt',)\n",
        "\n",
        "        return {'input_ids': encoding['input_ids'].flatten(),\n",
        "                'attention_mask': encoding['attention_mask'].flatten(),\n",
        "                'label': torch.tensor(label),\n",
        "                }"
      ]
    },
    {
      "cell_type": "markdown",
      "metadata": {
        "id": "2P-pit8eyCKK"
      },
      "source": [
        "Now, our dataset and text tokenization are ready. Let's start creating BERT emotion classifier.\n",
        "\n",
        "First, we need to create a classification layer which is connected to BERT, because BERT itself cannot perform classification task. However, BERT can understand English text and encode the input text into embedding vectors. Next, we pass the vector to the classification layer for emotion classification.\n",
        "\n",
        "For classification layer, we create a simple neuron network comprise of linear layer, dropout layer, and output layer. Here we  use ```pytorch-lightnight``` for this task, as shown below.  \n",
        "\n",
        "```python\n",
        "class BERTClassifier(pl.LightningModule):\n",
        "    def __init__(self, model, num_class, emotion_index):\n",
        "        super(BERTClassifier, self).__init__()\n",
        "        self.model = model\n",
        "        self.num_class = num_class\n",
        "        self.emotion_index = emotion_index\n",
        "        self.pre_classifier = nn.Linear(768, 768)\n",
        "        self.dropout = nn.Dropout(0.1)\n",
        "        self.classifier = nn.Linear(768, self.num_class) # output layer\n",
        "\n",
        "```\n",
        "\n",
        "The above is sample code of our ```BERTclassifier```, where we define necessary elements. Next, let's setup the ```forward``` function to connect all these layers and classify emotion."
      ]
    },
    {
      "cell_type": "markdown",
      "metadata": {
        "id": "LpAsFjbLyCKK"
      },
      "source": [
        "```python\n",
        "def forward(self, input_ids, attention_mask):\n",
        "        outputs = self.model(input_ids = input_ids, attention_mask = attention_mask)\n",
        "        pooler = outputs[0][:, 0]\n",
        "        pooler = self.pre_classifier(pooler)\n",
        "        pooler = nn.ReLU()(pooler)\n",
        "        pooler = self.dropout(pooler)\n",
        "        logits = self.classifier(pooler)\n",
        "\n",
        "        return logits\n",
        "```\n",
        "\n",
        "The ```forward``` function shows the sequence of layers explained previously. This function returns the result of the last layer, which provides classification output.\n",
        "\n",
        "Next, we create a function for emotion classification by connecting ```BERTDataset``` to ```BERTClassifier```.\n",
        "\n",
        "```python\n",
        "def emo_classification(self, dataset):\n",
        "        predictions = []\n",
        "        for _d in dataset:\n",
        "            logits = self(_d['input_ids'].unsqueeze(0), _d['attention_mask'].unsqueeze(0))\n",
        "            _, pred = torch.max(logits, dim = 1)\n",
        "            index= pred.numpy()[0]\n",
        "            predictions.append(self.emotion_index[index])\n",
        "        return predictions\n",
        "```\n"
      ]
    },
    {
      "cell_type": "markdown",
      "metadata": {
        "id": "CBL7ifnnyCKK"
      },
      "source": [
        "The ```emotion_classification``` process iterates over the dataset to classify emotion for each input text (social media message in our dataset). As we already tokenized the text, this function accesses the tokenized text then passes it to ```forward``` function. Finally, we return the classification results. The code below shows the complete class of ```BERTClassifier```."
      ]
    },
    {
      "cell_type": "code",
      "execution_count": null,
      "metadata": {
        "id": "Yoxw7-rGyCKK"
      },
      "outputs": [],
      "source": [
        "class BERTClassifier(pl.LightningModule):\n",
        "    def __init__(self, model, num_class, emotion_index):\n",
        "        super(BERTClassifier, self).__init__()\n",
        "        self.model = model\n",
        "        self.num_class = num_class\n",
        "        self.emotion_index = emotion_index\n",
        "        self.pre_classifier = nn.Linear(768, 768)\n",
        "        self.dropout = nn.Dropout(0.1)\n",
        "        self.classifier = nn.Linear(768, self.num_class)\n",
        "\n",
        "\n",
        "    def forward(self, input_ids, attention_mask):\n",
        "        outputs = self.model(input_ids = input_ids, attention_mask = attention_mask)\n",
        "        pooler = outputs[0][:, 0]\n",
        "        pooler = self.pre_classifier(pooler)\n",
        "        pooler = nn.ReLU()(pooler)\n",
        "        pooler = self.dropout(pooler)\n",
        "        logits = self.classifier(pooler)\n",
        "\n",
        "        return logits\n",
        "\n",
        "    def emo_classification(self, dataset):\n",
        "        predictions = []\n",
        "        for _d in dataset:\n",
        "            input_ids = _d['input_ids'].unsqueeze(0).to(device)\n",
        "            attention_mask = _d['attention_mask'].unsqueeze(0).to(device)\n",
        "            logits = self(input_ids, attention_mask)\n",
        "            _, pred = torch.max(logits, dim = 1)\n",
        "            index= pred.cpu().numpy()[0]\n",
        "            predictions.append(self.emotion_index[index])\n",
        "        return predictions\n"
      ]
    },
    {
      "cell_type": "markdown",
      "metadata": {
        "id": "Gq-ATLFsULRc"
      },
      "source": [
        "With classifier and dataset ready, let's setup parameters and perform the classification."
      ]
    },
    {
      "cell_type": "code",
      "execution_count": null,
      "metadata": {
        "id": "cpG6gDOnyCKK"
      },
      "outputs": [],
      "source": [
        "# Parameters\n",
        "CLASSES = 7\n",
        "DATACOLUMN = 'text'\n",
        "LABLECOLUMN = 'index'\n",
        "EMOTION_INDEX = {0: 'anger',\n",
        "                 1: 'disgust',\n",
        "                 2: 'fear',\n",
        "                 3: 'joy',\n",
        "                 4: 'neutral',\n",
        "                 5: 'sadness',\n",
        "                 6: 'surprise'}"
      ]
    },
    {
      "cell_type": "markdown",
      "metadata": {
        "id": "w-4PQHxLyCKL"
      },
      "source": [
        "We use BERT model called <a href='https://huggingface.co/google-bert/bert-base-uncased'>bert-base-uncased</a>, which is available on Hugging Face website."
      ]
    },
    {
      "cell_type": "code",
      "execution_count": null,
      "metadata": {
        "id": "ERrd3TOKyCKL"
      },
      "outputs": [],
      "source": [
        "# Download BERT model and initialise BERT classifier.\n",
        "\n",
        "BERT_MODEL = BertModel.from_pretrained(\"bert-base-uncased\")\n",
        "BERT_TOKENIZER = BertTokenizer.from_pretrained(\"bert-base-uncased\", do_lower_case=True)\n",
        "\n",
        "BERTcls = BERTClassifier(\n",
        "    model=BERT_MODEL,\n",
        "    num_class=CLASSES,\n",
        "    emotion_index = EMOTION_INDEX).to(device)"
      ]
    },
    {
      "cell_type": "code",
      "execution_count": null,
      "metadata": {
        "id": "GK2L2o7lyCKL"
      },
      "outputs": [],
      "source": [
        "# Get data ready\n",
        "# We sample 10 instances from dataset['test']\n",
        "# You can try the whole data by replacing data with dataset['test']\n",
        "\n",
        "data = dataset['test'].sample(n=10, random_state=1)\n",
        "\n",
        "Bertdata = BERTDataset(df = data,\n",
        "                       tokenizer = BERT_TOKENIZER,\n",
        "                       max_length = BERT_TOKENIZER.model_max_length,\n",
        "                       datacolumn = DATACOLUMN,\n",
        "                       labelcolumn = LABLECOLUMN)"
      ]
    },
    {
      "cell_type": "code",
      "execution_count": null,
      "metadata": {
        "id": "pwZtHzQXyCKL",
        "outputId": "8bf9e8e0-aa11-4fe2-bb6f-7d973043281d"
      },
      "outputs": [
        {
          "name": "stderr",
          "output_type": "stream",
          "text": [
            "e:\\miniconda3\\envs\\phdenv\\Lib\\site-packages\\transformers\\models\\bert\\modeling_bert.py:435: UserWarning: 1Torch was not compiled with flash attention. (Triggered internally at ..\\aten\\src\\ATen\\native\\transformers\\cuda\\sdp_utils.cpp:455.)\n",
            "  attn_output = torch.nn.functional.scaled_dot_product_attention(\n"
          ]
        },
        {
          "data": {
            "text/plain": [
              "['neutral',\n",
              " 'neutral',\n",
              " 'neutral',\n",
              " 'sadness',\n",
              " 'neutral',\n",
              " 'neutral',\n",
              " 'surprise',\n",
              " 'neutral',\n",
              " 'neutral',\n",
              " 'sadness']"
            ]
          },
          "execution_count": 13,
          "metadata": {},
          "output_type": "execute_result"
        }
      ],
      "source": [
        "# Emotion classification\n",
        "bert_pred = BERTcls.emo_classification(Bertdata)\n",
        "bert_pred"
      ]
    },
    {
      "cell_type": "markdown",
      "metadata": {
        "id": "PCNfg5mWyCKP"
      },
      "source": [
        "## T5 Emotion Classifier"
      ]
    },
    {
      "cell_type": "markdown",
      "metadata": {
        "id": "0zqfo_pwyCKQ"
      },
      "source": [
        "We have shown how to use BERT for emotion classification. For T5, the process is similar. We need to create ```Dataset``` and T5 classifier. The main difference is that T5 can generate text on its own and we do not need to create a classification layer. Therefore, we can use T5 to directly predict emotion of text.  \n",
        "\n",
        "For text generation, we need to be careful of the length of generated text because we do not want the classifier to over generate. In our case, we want the model to just return a emotion category instead of a full sentences. Therefore, we need to limit the length of generated text. To do that, let's first check the length of tokenized emotion category labels."
      ]
    },
    {
      "cell_type": "code",
      "execution_count": null,
      "metadata": {
        "id": "tiHyCZylyCKQ",
        "outputId": "3cb9384f-8075-4da3-85de-6addd13370d7"
      },
      "outputs": [
        {
          "name": "stderr",
          "output_type": "stream",
          "text": [
            "You are using the default legacy behaviour of the <class 'transformers.models.t5.tokenization_t5.T5Tokenizer'>. This is expected, and simply means that the `legacy` (previous) behavior will be used so nothing changes for you. If you want to use the new behaviour, set `legacy=False`. This should only be set if you understand what it means, and thoroughly read the reason why this was added as explained in https://github.com/huggingface/transformers/pull/24565\n",
            "Special tokens have been added in the vocabulary, make sure the associated word embeddings are fine-tuned or trained.\n"
          ]
        }
      ],
      "source": [
        "# load T5 and tokenizer\n",
        "\n",
        "T5_MODEL = T5ForConditionalGeneration.from_pretrained(\"t5-small\", return_dict=True)\n",
        "T5_TOKENIZER = T5Tokenizer.from_pretrained(\"t5-small\")"
      ]
    },
    {
      "cell_type": "markdown",
      "metadata": {
        "id": "2pyXmepRyCKT"
      },
      "source": [
        "As shown above, we select T5 model named <a href='https://huggingface.co/google-t5/t5-small'>t5-small</a>. It is the smallest among T5 model series."
      ]
    },
    {
      "cell_type": "code",
      "execution_count": null,
      "metadata": {
        "id": "1UnaA9qnyCKT",
        "outputId": "bb95c339-4ea1-4666-c738-21392533c13d"
      },
      "outputs": [
        {
          "data": {
            "text/html": [
              "<div>\n",
              "<style scoped>\n",
              "    .dataframe tbody tr th:only-of-type {\n",
              "        vertical-align: middle;\n",
              "    }\n",
              "\n",
              "    .dataframe tbody tr th {\n",
              "        vertical-align: top;\n",
              "    }\n",
              "\n",
              "    .dataframe thead th {\n",
              "        text-align: right;\n",
              "    }\n",
              "</style>\n",
              "<table border=\"1\" class=\"dataframe\">\n",
              "  <thead>\n",
              "    <tr style=\"text-align: right;\">\n",
              "      <th></th>\n",
              "      <th>Emotion</th>\n",
              "      <th>No. tokens</th>\n",
              "      <th>Token ids</th>\n",
              "    </tr>\n",
              "  </thead>\n",
              "  <tbody>\n",
              "    <tr>\n",
              "      <th>0</th>\n",
              "      <td>anger</td>\n",
              "      <td>2</td>\n",
              "      <td>[11213, 1]</td>\n",
              "    </tr>\n",
              "    <tr>\n",
              "      <th>1</th>\n",
              "      <td>disgust</td>\n",
              "      <td>2</td>\n",
              "      <td>[27635, 1]</td>\n",
              "    </tr>\n",
              "    <tr>\n",
              "      <th>2</th>\n",
              "      <td>fear</td>\n",
              "      <td>2</td>\n",
              "      <td>[2971, 1]</td>\n",
              "    </tr>\n",
              "    <tr>\n",
              "      <th>3</th>\n",
              "      <td>joy</td>\n",
              "      <td>2</td>\n",
              "      <td>[3922, 1]</td>\n",
              "    </tr>\n",
              "    <tr>\n",
              "      <th>4</th>\n",
              "      <td>neutral</td>\n",
              "      <td>2</td>\n",
              "      <td>[7163, 1]</td>\n",
              "    </tr>\n",
              "    <tr>\n",
              "      <th>5</th>\n",
              "      <td>sadness</td>\n",
              "      <td>2</td>\n",
              "      <td>[24784, 1]</td>\n",
              "    </tr>\n",
              "    <tr>\n",
              "      <th>6</th>\n",
              "      <td>surprise</td>\n",
              "      <td>2</td>\n",
              "      <td>[4158, 1]</td>\n",
              "    </tr>\n",
              "  </tbody>\n",
              "</table>\n",
              "</div>"
            ],
            "text/plain": [
              "    Emotion  No. tokens   Token ids\n",
              "0     anger           2  [11213, 1]\n",
              "1   disgust           2  [27635, 1]\n",
              "2      fear           2   [2971, 1]\n",
              "3       joy           2   [3922, 1]\n",
              "4   neutral           2   [7163, 1]\n",
              "5   sadness           2  [24784, 1]\n",
              "6  surprise           2   [4158, 1]"
            ]
          },
          "execution_count": 15,
          "metadata": {},
          "output_type": "execute_result"
        }
      ],
      "source": [
        "# Tokenise emotion categories.\n",
        "DATACOLUMN = 'text'\n",
        "LABLECOLUMN = 'emotion'\n",
        "\n",
        "generated_output_length = [(e, len(T5_TOKENIZER.encode(e)), T5_TOKENIZER.encode(e)) for e in dataset['train'][LABLECOLUMN].unique()]\n",
        "output_length_df = pd.DataFrame(generated_output_length, columns=['Emotion', 'No. tokens', 'Token ids'])\n",
        "output_length_df"
      ]
    },
    {
      "cell_type": "markdown",
      "metadata": {
        "id": "KYcHyZ8FyCKT"
      },
      "source": [
        "The above output shows that the maximum token lengths is 2. This means that we can limit the length of generated text to 2.\n",
        "\n",
        "Next, let's define our dataset and T5 classifier. For the dataset, we use the same class for implementing ```Dataset```. Unlike BERT, before text tokenization, we need to add prompt instruction as a prefix to tell T5 what to do. In our example, we add \"emotion classification:\" before the text. Then tokenize the input text."
      ]
    },
    {
      "cell_type": "code",
      "execution_count": null,
      "metadata": {
        "id": "zWMvUiglyCKU"
      },
      "outputs": [],
      "source": [
        "class T5Dataset(Dataset):\n",
        "    def __init__(self, df, tokenizer, text_maxlength, label_maxlength, datacolumn, labelcolumn):\n",
        "        self.data = df\n",
        "        self.texts = self.data[datacolumn].tolist()\n",
        "        self.labels = self.data[labelcolumn].tolist()\n",
        "        self.tokenizer = tokenizer\n",
        "        self.text_maxlength = text_maxlength\n",
        "        self.label_maxlength = label_maxlength\n",
        "\n",
        "    def __len__(self):\n",
        "        return(len(self.texts))\n",
        "\n",
        "    def __getitem__(self,idx):\n",
        "        # T5 transformers perform on different tasks by prepending the particular prefix to the input text.\n",
        "        # Because T5 is text-to-text transformer, in order to avoid data type mismatch, the data type must be string\n",
        "        text = \"emotion classification:\" + str(self.texts[idx])\n",
        "        label = str(self.labels[idx]).lower()\n",
        "        text_tokenizer = self.tokenizer(text, max_length=self.text_maxlength, padding=\"max_length\")\n",
        "        label_tokenizer = self.tokenizer(label, max_length=self.label_maxlength, padding=\"max_length\")\n",
        "\n",
        "        return {\n",
        "            \"input_ids\": torch.tensor(text_tokenizer[\"input_ids\"], dtype=torch.long),\n",
        "            \"attention_mask\": torch.tensor(text_tokenizer[\"attention_mask\"], dtype=torch.long),\n",
        "            \"label_ids\": torch.tensor(label_tokenizer[\"input_ids\"], dtype=torch.long),\n",
        "            \"label_mask\": torch.tensor(label_tokenizer[\"attention_mask\"], dtype=torch.long)\n",
        "        }"
      ]
    },
    {
      "cell_type": "markdown",
      "metadata": {
        "id": "qTGTtqnpyCKU"
      },
      "source": [
        "With regards to classifier, T5 provides a built-in function which takes tokenised text as input and generates classification output. Therefore, we do not need to create a ```forward``` function as with BERT."
      ]
    },
    {
      "cell_type": "code",
      "execution_count": null,
      "metadata": {
        "id": "4DMTvK_iyCKU"
      },
      "outputs": [],
      "source": [
        "class T5Classifier(pl.LightningModule):\n",
        "    def __init__(self, model, tokenizer, generated_max_length):\n",
        "        super(T5Classifier, self).__init__()\n",
        "        self.model = model\n",
        "        self.tokenizer = tokenizer\n",
        "        self.generated_max_length = generated_max_length\n",
        "\n",
        "    def emo_classification(self,dataset):\n",
        "        predictions = []\n",
        "        for _d in dataset:\n",
        "            input_ids = _d['input_ids'].unsqueeze(0).to(device)\n",
        "            attention_mask = _d['attention_mask'].unsqueeze(0).to(device)\n",
        "            pred = self.model.generate(input_ids,\n",
        "                                       max_length=self.generated_max_length)\n",
        "            _pred = self.tokenizer.decode(pred[0],skip_special_tokens=True)\n",
        "            predictions.append(_pred)\n",
        "        return predictions\n",
        ""
      ]
    },
    {
      "cell_type": "markdown",
      "metadata": {
        "id": "EhqegxRdyCKV"
      },
      "source": [
        "The classification process is similar to that of BERT. Firstly, we iterate over the pieces of input text (social media messages in our case) and predict emotion for each them.  \n",
        "\n",
        "Now, the classifier and dataset are ready, let's try the classification."
      ]
    },
    {
      "cell_type": "code",
      "execution_count": null,
      "metadata": {
        "id": "9JrOJG6FyCKV"
      },
      "outputs": [],
      "source": [
        "# Output max length\n",
        "OUTPUTLENGTH = output_length_df['No. tokens'].max()\n",
        "\n",
        "T5cls = T5Classifier(\n",
        "    model=T5_MODEL,\n",
        "    tokenizer=T5_TOKENIZER,\n",
        "    generated_max_length=OUTPUTLENGTH).to(device)\n",
        "\n",
        "t5data = T5Dataset(df = data,\n",
        "                       tokenizer = T5_TOKENIZER,\n",
        "                       text_maxlength = T5_TOKENIZER.model_max_length,\n",
        "                       label_maxlength = OUTPUTLENGTH,\n",
        "                       datacolumn = DATACOLUMN,\n",
        "                       labelcolumn = LABLECOLUMN)"
      ]
    },
    {
      "cell_type": "code",
      "execution_count": null,
      "metadata": {
        "id": "8TFcPFwiyCKV",
        "outputId": "50f64414-b2e5-4a54-bbe9-fcf340cb7916"
      },
      "outputs": [
        {
          "data": {
            "text/plain": [
              "['', '', '', '', '', '', '', '', '', '']"
            ]
          },
          "execution_count": 19,
          "metadata": {},
          "output_type": "execute_result"
        }
      ],
      "source": [
        "# classification result\n",
        "t5_pred = T5cls.emo_classification(t5data)\n",
        "t5_pred"
      ]
    },
    {
      "cell_type": "markdown",
      "metadata": {
        "id": "9aMOTLGJyCKV"
      },
      "source": [
        "So far, we have explained how to classify emotions using BERT and T5. In the next section, we will show you how to evaluate the performances of the two classifiers."
      ]
    },
    {
      "cell_type": "markdown",
      "metadata": {
        "id": "T1S0AyL1yCKV"
      },
      "source": [
        "<a name=\"evaluation\"></a>\n",
        "# **Section 4: Model Evaluation**"
      ]
    },
    {
      "cell_type": "markdown",
      "metadata": {
        "id": "u8Y_A7gTyCKW"
      },
      "source": [
        "In this section, we will evaluate performances of two emotion classifiers, BERT and T5. We will use accuracy to compare their performaces. First let's define an accuracy as: the ratio of number of correctly predicted texts over the total number of texts. The ```accuracy``` function code is shown below."
      ]
    },
    {
      "cell_type": "code",
      "execution_count": null,
      "metadata": {
        "id": "24alBqKbyCKW"
      },
      "outputs": [],
      "source": [
        "# accuracy function\n",
        "def accuracy(actual_label,pred):\n",
        "    return sum([1 if a == p else 0 for a,p in zip(actual_label,pred)])/len(pred)"
      ]
    },
    {
      "cell_type": "markdown",
      "metadata": {
        "id": "SjXnoIMfyCKW"
      },
      "source": [
        "Next, let's look at classification results."
      ]
    },
    {
      "cell_type": "code",
      "execution_count": null,
      "metadata": {
        "id": "-3Xbpg6kyCKW",
        "outputId": "516b8852-b96a-483a-d100-13624ba6b9f3"
      },
      "outputs": [
        {
          "data": {
            "text/html": [
              "<div>\n",
              "<style scoped>\n",
              "    .dataframe tbody tr th:only-of-type {\n",
              "        vertical-align: middle;\n",
              "    }\n",
              "\n",
              "    .dataframe tbody tr th {\n",
              "        vertical-align: top;\n",
              "    }\n",
              "\n",
              "    .dataframe thead th {\n",
              "        text-align: right;\n",
              "    }\n",
              "</style>\n",
              "<table border=\"1\" class=\"dataframe\">\n",
              "  <thead>\n",
              "    <tr style=\"text-align: right;\">\n",
              "      <th></th>\n",
              "      <th>text</th>\n",
              "      <th>emotion</th>\n",
              "      <th>bert</th>\n",
              "      <th>t5</th>\n",
              "    </tr>\n",
              "  </thead>\n",
              "  <tbody>\n",
              "    <tr>\n",
              "      <th>681</th>\n",
              "      <td>Was expecting a horrifically broken ankle. You...</td>\n",
              "      <td>surprise</td>\n",
              "      <td>neutral</td>\n",
              "      <td></td>\n",
              "    </tr>\n",
              "    <tr>\n",
              "      <th>626</th>\n",
              "      <td>Wow, didn't expect this thread to get philosop...</td>\n",
              "      <td>surprise</td>\n",
              "      <td>neutral</td>\n",
              "      <td></td>\n",
              "    </tr>\n",
              "    <tr>\n",
              "      <th>329</th>\n",
              "      <td>Funny, coming from the tool circle jerk reddit.</td>\n",
              "      <td>joy</td>\n",
              "      <td>neutral</td>\n",
              "      <td></td>\n",
              "    </tr>\n",
              "    <tr>\n",
              "      <th>620</th>\n",
              "      <td>I wonder why you're sitting at -2 for that com...</td>\n",
              "      <td>surprise</td>\n",
              "      <td>sadness</td>\n",
              "      <td></td>\n",
              "    </tr>\n",
              "    <tr>\n",
              "      <th>399</th>\n",
              "      <td>Wanna trade lives? I'd gladly take normal heig...</td>\n",
              "      <td>joy</td>\n",
              "      <td>neutral</td>\n",
              "      <td></td>\n",
              "    </tr>\n",
              "    <tr>\n",
              "      <th>443</th>\n",
              "      <td>Yes, I have. What are the towns of which you s...</td>\n",
              "      <td>neutral</td>\n",
              "      <td>neutral</td>\n",
              "      <td></td>\n",
              "    </tr>\n",
              "    <tr>\n",
              "      <th>274</th>\n",
              "      <td>[NAME] that is frightening...</td>\n",
              "      <td>fear</td>\n",
              "      <td>surprise</td>\n",
              "      <td></td>\n",
              "    </tr>\n",
              "    <tr>\n",
              "      <th>529</th>\n",
              "      <td>I don't think you're allowed to administer a v...</td>\n",
              "      <td>sadness</td>\n",
              "      <td>neutral</td>\n",
              "      <td></td>\n",
              "    </tr>\n",
              "    <tr>\n",
              "      <th>358</th>\n",
              "      <td>She has at least 12 elbows and all of them are...</td>\n",
              "      <td>joy</td>\n",
              "      <td>neutral</td>\n",
              "      <td></td>\n",
              "    </tr>\n",
              "    <tr>\n",
              "      <th>268</th>\n",
              "      <td>After 8? I'm afraid after 5. It gets dark here...</td>\n",
              "      <td>fear</td>\n",
              "      <td>sadness</td>\n",
              "      <td></td>\n",
              "    </tr>\n",
              "  </tbody>\n",
              "</table>\n",
              "</div>"
            ],
            "text/plain": [
              "                                                  text   emotion      bert t5\n",
              "681  Was expecting a horrifically broken ankle. You...  surprise   neutral   \n",
              "626  Wow, didn't expect this thread to get philosop...  surprise   neutral   \n",
              "329    Funny, coming from the tool circle jerk reddit.       joy   neutral   \n",
              "620  I wonder why you're sitting at -2 for that com...  surprise   sadness   \n",
              "399  Wanna trade lives? I'd gladly take normal heig...       joy   neutral   \n",
              "443  Yes, I have. What are the towns of which you s...   neutral   neutral   \n",
              "274                      [NAME] that is frightening...      fear  surprise   \n",
              "529  I don't think you're allowed to administer a v...   sadness   neutral   \n",
              "358  She has at least 12 elbows and all of them are...       joy   neutral   \n",
              "268  After 8? I'm afraid after 5. It gets dark here...      fear   sadness   "
            ]
          },
          "execution_count": 21,
          "metadata": {},
          "output_type": "execute_result"
        }
      ],
      "source": [
        "data = data.loc[:, ['text','emotion']]\n",
        "data['bert'] = bert_pred\n",
        "data['t5'] = t5_pred\n",
        "data"
      ]
    },
    {
      "cell_type": "markdown",
      "metadata": {
        "id": "XCiGO41QyCKW"
      },
      "source": [
        "Next, let's calculate the accuracy of the classifiers and compare their performances."
      ]
    },
    {
      "cell_type": "code",
      "execution_count": null,
      "metadata": {
        "id": "u8P8AJKdyCKX",
        "outputId": "d20ecf0b-5e06-4853-9d3e-cc714f12421e"
      },
      "outputs": [
        {
          "data": {
            "text/html": [
              "<div>\n",
              "<style scoped>\n",
              "    .dataframe tbody tr th:only-of-type {\n",
              "        vertical-align: middle;\n",
              "    }\n",
              "\n",
              "    .dataframe tbody tr th {\n",
              "        vertical-align: top;\n",
              "    }\n",
              "\n",
              "    .dataframe thead th {\n",
              "        text-align: right;\n",
              "    }\n",
              "</style>\n",
              "<table border=\"1\" class=\"dataframe\">\n",
              "  <thead>\n",
              "    <tr style=\"text-align: right;\">\n",
              "      <th></th>\n",
              "      <th>bert</th>\n",
              "      <th>t5</th>\n",
              "    </tr>\n",
              "  </thead>\n",
              "  <tbody>\n",
              "    <tr>\n",
              "      <th>0</th>\n",
              "      <td>0.1</td>\n",
              "      <td>0.0</td>\n",
              "    </tr>\n",
              "  </tbody>\n",
              "</table>\n",
              "</div>"
            ],
            "text/plain": [
              "   bert   t5\n",
              "0   0.1  0.0"
            ]
          },
          "execution_count": 22,
          "metadata": {},
          "output_type": "execute_result"
        }
      ],
      "source": [
        "performance = {}\n",
        "performance['bert'] = [accuracy(data.emotion.tolist(), data.bert.to_list())]\n",
        "performance['t5'] = [accuracy(data.emotion.tolist(), data.t5.to_list())]\n",
        "\n",
        "perm = pd.DataFrame(performance)\n",
        "perm"
      ]
    },
    {
      "cell_type": "code",
      "execution_count": null,
      "metadata": {
        "id": "2rzY-2CLyCKX",
        "outputId": "5a0b3995-4dcd-4a3b-96d6-d488fbf5e881"
      },
      "outputs": [
        {
          "data": {
            "text/plain": [
              "<Axes: >"
            ]
          },
          "execution_count": 23,
          "metadata": {},
          "output_type": "execute_result"
        },
        {
          "data": {
            "image/png": "[encoded data removed]",
            "text/plain": [
              "<Figure size 640x480 with 1 Axes>"
            ]
          },
          "metadata": {},
          "output_type": "display_data"
        }
      ],
      "source": [
        "perm.plot.bar()"
      ]
    },
    {
      "cell_type": "markdown",
      "metadata": {
        "id": "O-lkEAT0yCKX"
      },
      "source": [
        "As shown above, the performances of these classifiers are quit poor. In the next section, we will show how to improve the performance of them by fine-tuning the LLMs."
      ]
    },
    {
      "cell_type": "markdown",
      "metadata": {
        "id": "5T53StooyCKX"
      },
      "source": [
        "<a name=\"fine-tuning\"></a>\n",
        "# **Section 5: Guide to Model Fine-tuning**"
      ]
    },
    {
      "cell_type": "markdown",
      "metadata": {
        "id": "3nZCtXBOyCKX"
      },
      "source": [
        "To improve performance of the classifiers, we need to fine-tune the LLMs to adapt them for classifying with our specific emotion categories. The fine-tuning is a supervised learning process using pre-classified example data (training data). Each round of training is called epoch. For each epoch, we divine data into batches. The classifiers will learn at the end of each round by updating parameters of LLMs. For the training, we prepared a training data and a validation data.  \n",
        "\n",
        "For program implementation, we use the BERT and T5 classes defined earlier."
      ]
    },
    {
      "cell_type": "markdown",
      "metadata": {
        "id": "ijgIplCEyCKX"
      },
      "source": [
        "## BERT classifier tuning  \n",
        "\n",
        "Before we dive into the fine-tuning, we first need to define a function for splitting the training data into batches. It can also be used to create data for validating and testing. We use ```DataModule``` of ```pyTorch-lightning``` for this function. The ```DataModule``` stores training, validating and test datasets and facilitates batch process of fine-tuning. The ```DataModule``` class is shown below.\n",
        "\n",
        "```python\n",
        "class BERTDataModule(pl.LightningDataModule):\n",
        "    def __init__(self, traindf, valdf, testdf, batch_size, tokenizer, max_length, datacolumn, labelcolumn):\n",
        "        super().__init__()\n",
        "        # dataset\n",
        "        self.traindf = traindf\n",
        "        self.valdf = valdf\n",
        "        self.testdf = testdf\n",
        "        self.datacolumn = datacolumn\n",
        "        self.labelcolumn = labelcolumn\n",
        "        # parameters\n",
        "        self.batch_size = batch_size\n",
        "        self.max_length = max_length\n",
        "        # tokenizer\n",
        "        self.tokenizer = tokenizer\n",
        "\n",
        "    def setup(self, stage=None):\n",
        "        self.train_dataset = BERTDataset( self.traindf, self.tokenizer, self.max_length, self.datacolumn, self.labelcolumn)\n",
        "        self.val_dataset = BERTDataset( self.valdf, self.tokenizer, self.max_length, self.datacolumn, self.labelcolumn)\n",
        "        self.test_dataset = BERTDataset( self.testdf, self.tokenizer, self.max_length, self.datacolumn, self.labelcolumn)\n",
        "        \n",
        "```\n",
        "\n",
        "In the above setup functions, ```BERTDataModule``` creates ```BERTDataset``` objects of training, validating, and test datasets, and stores them. Then, using the following functions, we can access the ```BERTDataset``` objects.\n",
        "\n",
        "```python\n",
        "    def train_dataloader(self):\n",
        "        return DataLoader( self.train_dataset, batch_size=self.batch_size, shuffle=True)\n",
        "\n",
        "    def val_dataloader(self):\n",
        "        return DataLoader( self.val_dataset, batch_size=self.batch_size)\n",
        "\n",
        "    def test_dataloader(self):\n",
        "        return DataLoader(self.test_dataset, batch_size=self.batch_size)\n",
        "```\n",
        "\n",
        "The above functions are to be called during training, validating, and testing steps, and return ```DataLoader``` object with parameters of ```batch_size```. The complete class is shown below.\n",
        "\n"
      ]
    },
    {
      "cell_type": "code",
      "execution_count": null,
      "metadata": {
        "id": "yJJGum9AULRd"
      },
      "outputs": [],
      "source": [
        "class BERTDataModule(pl.LightningDataModule):\n",
        "    def __init__(self, traindf, valdf, testdf, batch_size, tokenizer, max_length, datacolumn, labelcolumn):\n",
        "        super().__init__()\n",
        "        # dataset\n",
        "        self.traindf = traindf\n",
        "        self.valdf = valdf\n",
        "        self.testdf = testdf\n",
        "        self.datacolumn = datacolumn\n",
        "        self.labelcolumn = labelcolumn\n",
        "        # parameters\n",
        "        self.batch_size = batch_size\n",
        "        self.max_length = max_length\n",
        "        # tokenizer\n",
        "        self.tokenizer = tokenizer\n",
        "\n",
        "    def setup(self, stage=None):\n",
        "        self.train_dataset = BERTDataset( self.traindf, self.tokenizer, self.max_length, self.datacolumn, self.labelcolumn)\n",
        "        self.val_dataset = BERTDataset( self.valdf, self.tokenizer, self.max_length, self.datacolumn, self.labelcolumn)\n",
        "        self.test_dataset = BERTDataset( self.testdf, self.tokenizer, self.max_length, self.datacolumn, self.labelcolumn)\n",
        "\n",
        "    def train_dataloader(self):\n",
        "        return DataLoader( self.train_dataset, batch_size=self.batch_size, shuffle=True)\n",
        "\n",
        "    def val_dataloader(self):\n",
        "        return DataLoader( self.val_dataset, batch_size=self.batch_size)\n",
        "\n",
        "    def test_dataloader(self):\n",
        "        return DataLoader( self.test_dataset, batch_size=self.batch_size)"
      ]
    },
    {
      "cell_type": "markdown",
      "metadata": {
        "id": "KfGgMlf9ULRe"
      },
      "source": [
        "Now we have set up ```DataModule``` for fine-tuning.<br>\n",
        "\n",
        "Next, let's modify our ```BERTClassifier```. We need to add three functions for training, validating, and testing.  \n",
        "\n",
        "```python\n",
        "def training_step(self, batch, batch_idx):\n",
        "        input_ids = batch[\"input_ids\"]\n",
        "        attention_mask = batch[\"attention_mask\"]\n",
        "        labels = batch[\"label\"]\n",
        "\n",
        "        logits = self(input_ids, attention_mask)\n",
        "        _, preds = torch.max(logits, dim = 1)\n",
        "        loss = nn.CrossEntropyLoss()(logits, labels)\n",
        "\n",
        "        self.log('train_loss', loss, on_epoch=True)\n",
        "        self.log('train_acc',(preds == labels).sum() / len(labels), on_epoch=True)\n",
        "        return loss\n",
        "```\n",
        "\n",
        "The function ```training_step``` takes as input the batch data provided by the ```train_dataloader``` of ```BERTDataModule```. For each batch, the input data is passed to ```forward``` function. The function calculates the loss. We need to keep tracking loss and accuracy during the training process.\n",
        "\n"
      ]
    },
    {
      "cell_type": "markdown",
      "metadata": {
        "id": "gxuCm_BwyCKY"
      },
      "source": [
        "For the ```validating_step```, the code is similar to that of ```training_step```. However, during validation, the function will call ```val_dataloader``` of the ```BERTDataModule``` to obtain validation dataset. The rest of the process is the same.\n",
        "\n",
        "```python\n",
        "def validation_step(self, batch, batch_idx):\n",
        "    input_ids = batch[\"input_ids\"]\n",
        "    attention_mask = batch[\"attention_mask\"]\n",
        "    labels = batch[\"label\"]\n",
        "\n",
        "    logits = self(input_ids, attention_mask)\n",
        "    _, preds = torch.max(logits, dim = 1)\n",
        "    loss = nn.CrossEntropyLoss()(logits, labels)\n",
        "\n",
        "    self.log('val_loss', loss)\n",
        "    self.log('val_acc', (preds == labels).sum() / len(labels))\n",
        "    return loss\n",
        "\n",
        "```"
      ]
    },
    {
      "cell_type": "markdown",
      "metadata": {
        "id": "kkJobwfkyCKY"
      },
      "source": [
        "In the ```test_step```, we do not need to return the loss as we only want to test the classifier against the test dataset. Again, the process is similar to that of the other two steps.\n",
        "\n",
        "```python\n",
        "    def test_step(self, batch, batch_idx):\n",
        "        input_ids = batch[\"input_ids\"]\n",
        "        attention_mask = batch[\"attention_mask\"]\n",
        "        labels = batch[\"label\"]\n",
        "        logits = self(input_ids=input_ids,\n",
        "                      attention_mask=attention_mask)\n",
        "        loss = nn.CrossEntropyLoss()(logits, labels)\n",
        "        _, preds = torch.max(logits, dim = 1)\n",
        "\n",
        "        self.log('test_loss', loss)\n",
        "        self.log('test_acc', (preds == labels).sum() / len(labels))\n",
        "```"
      ]
    },
    {
      "cell_type": "markdown",
      "metadata": {
        "id": "rIgNTvKkyCKZ"
      },
      "source": [
        "So far, we have defined all functions. The last step is to define an optimizer for updating our classifiers. The optimizer needs parameters such as learning rate, number of training steps, and number of warmup steps. These parameters are set up during classifier initialising step. In our example, we use Adam optimizer as shown below.\n",
        "\n",
        "```python\n",
        "    def configure_optimizers(self):\n",
        "        optimizer = AdamW(self.model.parameters(), lr=self.learning_rate)\n",
        "        scheduler = get_linear_schedule_with_warmup(\n",
        "                optimizer, num_warmup_steps=0,\n",
        "                num_training_steps=self.epoch*self.train_size)\n",
        "        return {'optimizer': optimizer, 'lr_scheduler': scheduler}\n",
        "```\n",
        "\n",
        "The modified ```BERTClassifier``` is shown below."
      ]
    },
    {
      "cell_type": "code",
      "execution_count": null,
      "metadata": {
        "id": "vHVTBdszULRe"
      },
      "outputs": [],
      "source": [
        "class BERTClassifier(pl.LightningModule):\n",
        "    def __init__(self, model, num_class, learning_rate, epoch, train_size):\n",
        "        super(BERTClassifier, self).__init__()\n",
        "        self.model = model\n",
        "        self.num_class = num_class\n",
        "        self.learning_rate = learning_rate\n",
        "        self.epoch = epoch\n",
        "        self.train_size = train_size\n",
        "        self.pre_classifier = nn.Linear(768, 768)\n",
        "        self.dropout = nn.Dropout(0.1)\n",
        "        self.classifier = nn.Linear(768, self.num_class)\n",
        "\n",
        "\n",
        "    def forward(self, input_ids, attention_mask):\n",
        "        outputs = self.model(input_ids = input_ids, attention_mask = attention_mask)\n",
        "        pooler = outputs[0][:, 0]\n",
        "        pooler = self.pre_classifier(pooler)\n",
        "        pooler = nn.ReLU()(pooler)\n",
        "        pooler = self.dropout(pooler)\n",
        "        logits = self.classifier(pooler)\n",
        "\n",
        "        return logits\n",
        "\n",
        "    def training_step(self, batch, batch_idx):\n",
        "        input_ids = batch[\"input_ids\"]\n",
        "        attention_mask = batch[\"attention_mask\"]\n",
        "        labels = batch[\"label\"]\n",
        "\n",
        "        logits = self(input_ids, attention_mask)\n",
        "        _, preds = torch.max(logits, dim = 1)\n",
        "        loss = nn.CrossEntropyLoss()(logits, labels)\n",
        "\n",
        "        self.log('train_loss', loss, on_epoch=True)\n",
        "        self.log('train_acc',(preds == labels).sum() / len(labels), on_epoch=True)\n",
        "        return loss\n",
        "\n",
        "    def validation_step(self, batch, batch_idx):\n",
        "        input_ids = batch[\"input_ids\"]\n",
        "        attention_mask = batch[\"attention_mask\"]\n",
        "        labels = batch[\"label\"]\n",
        "\n",
        "        logits = self(input_ids, attention_mask)\n",
        "        _, preds = torch.max(logits, dim = 1)\n",
        "        loss = nn.CrossEntropyLoss()(logits, labels)\n",
        "\n",
        "        self.log('val_loss', loss)\n",
        "        self.log('val_acc', (preds == labels).sum() / len(labels))\n",
        "        return loss\n",
        "\n",
        "    def test_step(self, batch, batch_idx):\n",
        "        input_ids = batch[\"input_ids\"]\n",
        "        attention_mask = batch[\"attention_mask\"]\n",
        "        labels = batch[\"label\"]\n",
        "        logits = self(input_ids=input_ids,\n",
        "                      attention_mask=attention_mask)\n",
        "        loss = nn.CrossEntropyLoss()(logits, labels)\n",
        "        _, preds = torch.max(logits, dim = 1)\n",
        "\n",
        "        self.log('test_loss', loss)\n",
        "        self.log('test_acc', (preds == labels).sum() / len(labels))\n",
        "\n",
        "    def configure_optimizers(self):\n",
        "        optimizer = AdamW(self.model.parameters(), lr=self.learning_rate)\n",
        "        scheduler = get_linear_schedule_with_warmup(\n",
        "                optimizer, num_warmup_steps=0,\n",
        "                num_training_steps=self.epoch*self.train_size)\n",
        "        return {'optimizer': optimizer, 'lr_scheduler': scheduler}"
      ]
    },
    {
      "cell_type": "markdown",
      "metadata": {
        "id": "ezY36nXiULRe"
      },
      "source": [
        "Next, let's set up parameters, data module, and classifier."
      ]
    },
    {
      "cell_type": "code",
      "execution_count": null,
      "metadata": {
        "id": "jaRcGBZOyCKZ"
      },
      "outputs": [],
      "source": [
        "# parameters\n",
        "EPOCH = 2 # two rounds of training\n",
        "CLASSES = 7 # emotion categories\n",
        "BATCH_SIZE = 8\n",
        "LEARNING_RATE = 2e-5\n",
        "TRAIN_SIZE = len(dataset['train'])\n",
        "MAX_LENGTH = BERT_TOKENIZER.model_max_length #512\n",
        "\n",
        "DATACOLUMN = 'text'\n",
        "BERTLABLECOLUMN = 'index'"
      ]
    },
    {
      "cell_type": "code",
      "execution_count": null,
      "metadata": {
        "id": "5lRTsJcsyCKZ"
      },
      "outputs": [],
      "source": [
        "# Datamodule\n",
        "BERTdata_module = BERTDataModule(traindf=dataset['train'],\n",
        "                               valdf=dataset['val'],\n",
        "                               testdf=dataset['test'],\n",
        "                               tokenizer=BERT_TOKENIZER,\n",
        "                               batch_size=BATCH_SIZE,\n",
        "                               max_length=MAX_LENGTH,\n",
        "                               datacolumn=DATACOLUMN,\n",
        "                               labelcolumn=BERTLABLECOLUMN)\n",
        "BERTdata_module.setup()"
      ]
    },
    {
      "cell_type": "code",
      "execution_count": null,
      "metadata": {
        "id": "Bd23JB0pyCKa"
      },
      "outputs": [],
      "source": [
        "# Classifier\n",
        "BERTcls = BERTClassifier(\n",
        "    model=BERT_MODEL,\n",
        "    num_class=CLASSES,\n",
        "    learning_rate=LEARNING_RATE,\n",
        "    epoch=EPOCH,\n",
        "    train_size=TRAIN_SIZE)\n",
        "\n",
        "# Unblock to print classifier structure\n",
        "# BERTcls"
      ]
    },
    {
      "cell_type": "markdown",
      "metadata": {
        "id": "7FMz2-o2yCKa"
      },
      "source": [
        "Now we create a log file to record fine-tuning performance and losses using ```CSVLogger```. For the fine-tuning, we use ```pytorch-lightnight``` ```Trainer```."
      ]
    },
    {
      "cell_type": "code",
      "execution_count": null,
      "metadata": {
        "id": "9dU9Lv-TyCKa",
        "outputId": "7034c0dd-df83-4499-9ed0-cf81bdadfac2"
      },
      "outputs": [
        {
          "name": "stderr",
          "output_type": "stream",
          "text": [
            "Using 16bit Automatic Mixed Precision (AMP)\n",
            "GPU available: True (cuda), used: True\n",
            "TPU available: False, using: 0 TPU cores\n",
            "IPU available: False, using: 0 IPUs\n",
            "HPU available: False, using: 0 HPUs\n"
          ]
        }
      ],
      "source": [
        "# Setup save path for log file\n",
        "logger = CSVLogger(\"./logs\", name='BERT_exp', version=1)\n",
        "\n",
        "# Using pytorch trainer for tuning\n",
        "trainer = pl.Trainer(\n",
        "    accelerator=\"auto\",\n",
        "    devices=\"auto\",\n",
        "    max_epochs=EPOCH,\n",
        "    precision=\"16-mixed\",\n",
        "    logger=logger)"
      ]
    },
    {
      "cell_type": "markdown",
      "metadata": {
        "id": "JUdi2xTPyCKa"
      },
      "source": [
        "Before we start fine-tuning, let's first test the classifier. Previously, we only tested based on a small samples of our test dataset. Now, we will test the classifier on the whole test dataset."
      ]
    },
    {
      "cell_type": "code",
      "execution_count": null,
      "metadata": {
        "colab": {
          "referenced_widgets": [
            "17ecc8699936435f95dfa52a0cedb192"
          ]
        },
        "id": "4cDOWKdiyCKa",
        "outputId": "a1e4b67f-cd35-4f3e-cf7e-96542b108253"
      },
      "outputs": [
        {
          "name": "stderr",
          "output_type": "stream",
          "text": [
            "You are using a CUDA device ('NVIDIA GeForce RTX 3070 Laptop GPU') that has Tensor Cores. To properly utilize them, you should set `torch.set_float32_matmul_precision('medium' | 'high')` which will trade-off precision for performance. For more details, read https://pytorch.org/docs/stable/generated/torch.set_float32_matmul_precision.html#torch.set_float32_matmul_precision\n",
            "e:\\miniconda3\\envs\\phdenv\\Lib\\site-packages\\lightning\\fabric\\loggers\\csv_logs.py:268: Experiment logs directory ./logs\\BERT_exp\\version_1 exists and is not empty. Previous log files in this directory will be deleted when the new ones are saved!\n",
            "LOCAL_RANK: 0 - CUDA_VISIBLE_DEVICES: [0]\n",
            "e:\\miniconda3\\envs\\phdenv\\Lib\\site-packages\\pytorch_lightning\\trainer\\connectors\\data_connector.py:441: The 'test_dataloader' does not have many workers which may be a bottleneck. Consider increasing the value of the `num_workers` argument` to `num_workers=15` in the `DataLoader` to improve performance.\n"
          ]
        },
        {
          "data": {
            "application/vnd.jupyter.widget-view+json": {
              "model_id": "17ecc8699936435f95dfa52a0cedb192",
              "version_major": 2,
              "version_minor": 0
            },
            "text/plain": [
              "Testing: |          | 0/? [00:00<?, ?it/s]"
            ]
          },
          "metadata": {},
          "output_type": "display_data"
        },
        {
          "name": "stdout",
          "output_type": "stream",
          "text": [
            "────────────────────────────────────────────────────────────────────────────────────────────────────────────────────────\n",
            "       Test metric             DataLoader 0\n",
            "────────────────────────────────────────────────────────────────────────────────────────────────────────────────────────\n",
            "        test_acc            0.1485714316368103\n",
            "        test_loss            1.949115514755249\n",
            "────────────────────────────────────────────────────────────────────────────────────────────────────────────────────────\n"
          ]
        },
        {
          "data": {
            "text/plain": [
              "[{'test_loss': 1.949115514755249, 'test_acc': 0.1485714316368103}]"
            ]
          },
          "execution_count": 30,
          "metadata": {},
          "output_type": "execute_result"
        }
      ],
      "source": [
        "trainer.test(BERTcls, BERTdata_module)"
      ]
    },
    {
      "cell_type": "markdown",
      "metadata": {
        "id": "P-H6Wo_FyCKa"
      },
      "source": [
        "As we can see, the test result is quit poor. Let's start tuning then test it again."
      ]
    },
    {
      "cell_type": "code",
      "execution_count": null,
      "metadata": {
        "colab": {
          "referenced_widgets": [
            "77272badc9a04c6a98e8e21a4aa923ca",
            "fddf6b5bb2174bbfbf5b082e696f4789",
            "3a1b989d72ae4d3489d789a0bd4705bd",
            "2ec00b532b604179af1ed85724f95d78"
          ]
        },
        "id": "sZzgSvkDyCKa",
        "outputId": "f5db4a5d-d9f9-4d28-f502-5432632e17c1"
      },
      "outputs": [
        {
          "name": "stderr",
          "output_type": "stream",
          "text": [
            "e:\\miniconda3\\envs\\phdenv\\Lib\\site-packages\\pytorch_lightning\\callbacks\\model_checkpoint.py:653: Checkpoint directory ./logs\\BERT_exp\\version_1\\checkpoints exists and is not empty.\n",
            "LOCAL_RANK: 0 - CUDA_VISIBLE_DEVICES: [0]\n",
            "e:\\miniconda3\\envs\\phdenv\\Lib\\site-packages\\transformers\\optimization.py:588: FutureWarning: This implementation of AdamW is deprecated and will be removed in a future version. Use the PyTorch implementation torch.optim.AdamW instead, or set `no_deprecation_warning=True` to disable this warning\n",
            "  warnings.warn(\n",
            "\n",
            "  | Name           | Type      | Params\n",
            "---------------------------------------------\n",
            "0 | model          | BertModel | 109 M \n",
            "1 | pre_classifier | Linear    | 590 K \n",
            "2 | dropout        | Dropout   | 0     \n",
            "3 | classifier     | Linear    | 5.4 K \n",
            "---------------------------------------------\n",
            "110 M     Trainable params\n",
            "0         Non-trainable params\n",
            "110 M     Total params\n",
            "440.313   Total estimated model params size (MB)\n"
          ]
        },
        {
          "data": {
            "application/vnd.jupyter.widget-view+json": {
              "model_id": "77272badc9a04c6a98e8e21a4aa923ca",
              "version_major": 2,
              "version_minor": 0
            },
            "text/plain": [
              "Sanity Checking: |          | 0/? [00:00<?, ?it/s]"
            ]
          },
          "metadata": {},
          "output_type": "display_data"
        },
        {
          "name": "stderr",
          "output_type": "stream",
          "text": [
            "e:\\miniconda3\\envs\\phdenv\\Lib\\site-packages\\pytorch_lightning\\trainer\\connectors\\data_connector.py:441: The 'val_dataloader' does not have many workers which may be a bottleneck. Consider increasing the value of the `num_workers` argument` to `num_workers=15` in the `DataLoader` to improve performance.\n",
            "e:\\miniconda3\\envs\\phdenv\\Lib\\site-packages\\pytorch_lightning\\trainer\\connectors\\data_connector.py:441: The 'train_dataloader' does not have many workers which may be a bottleneck. Consider increasing the value of the `num_workers` argument` to `num_workers=15` in the `DataLoader` to improve performance.\n"
          ]
        },
        {
          "data": {
            "application/vnd.jupyter.widget-view+json": {
              "model_id": "fddf6b5bb2174bbfbf5b082e696f4789",
              "version_major": 2,
              "version_minor": 0
            },
            "text/plain": [
              "Training: |          | 0/? [00:00<?, ?it/s]"
            ]
          },
          "metadata": {},
          "output_type": "display_data"
        },
        {
          "data": {
            "application/vnd.jupyter.widget-view+json": {
              "model_id": "3a1b989d72ae4d3489d789a0bd4705bd",
              "version_major": 2,
              "version_minor": 0
            },
            "text/plain": [
              "Validation: |          | 0/? [00:00<?, ?it/s]"
            ]
          },
          "metadata": {},
          "output_type": "display_data"
        },
        {
          "data": {
            "application/vnd.jupyter.widget-view+json": {
              "model_id": "2ec00b532b604179af1ed85724f95d78",
              "version_major": 2,
              "version_minor": 0
            },
            "text/plain": [
              "Validation: |          | 0/? [00:00<?, ?it/s]"
            ]
          },
          "metadata": {},
          "output_type": "display_data"
        },
        {
          "name": "stderr",
          "output_type": "stream",
          "text": [
            "`Trainer.fit` stopped: `max_epochs=2` reached.\n"
          ]
        }
      ],
      "source": [
        "trainer.fit(BERTcls, BERTdata_module)"
      ]
    },
    {
      "cell_type": "code",
      "execution_count": null,
      "metadata": {
        "colab": {
          "referenced_widgets": [
            "1a511a68f37344338105eacdf9474607"
          ]
        },
        "id": "jzohBthFyCKb",
        "outputId": "edb54872-989b-46a6-94ed-92ad7589512d"
      },
      "outputs": [
        {
          "name": "stderr",
          "output_type": "stream",
          "text": [
            "LOCAL_RANK: 0 - CUDA_VISIBLE_DEVICES: [0]\n"
          ]
        },
        {
          "data": {
            "application/vnd.jupyter.widget-view+json": {
              "model_id": "1a511a68f37344338105eacdf9474607",
              "version_major": 2,
              "version_minor": 0
            },
            "text/plain": [
              "Testing: |          | 0/? [00:00<?, ?it/s]"
            ]
          },
          "metadata": {},
          "output_type": "display_data"
        },
        {
          "name": "stdout",
          "output_type": "stream",
          "text": [
            "────────────────────────────────────────────────────────────────────────────────────────────────────────────────────────\n",
            "       Test metric             DataLoader 0\n",
            "────────────────────────────────────────────────────────────────────────────────────────────────────────────────────────\n",
            "        test_acc            0.7699999809265137\n",
            "        test_loss            0.75872802734375\n",
            "────────────────────────────────────────────────────────────────────────────────────────────────────────────────────────\n"
          ]
        },
        {
          "data": {
            "text/plain": [
              "[{'test_loss': 0.75872802734375, 'test_acc': 0.7699999809265137}]"
            ]
          },
          "execution_count": 32,
          "metadata": {},
          "output_type": "execute_result"
        }
      ],
      "source": [
        "# Testing after fine-tuning\n",
        "trainer.test(BERTcls, BERTdata_module)"
      ]
    },
    {
      "cell_type": "markdown",
      "metadata": {
        "id": "BstvVuSlULRg"
      },
      "source": [
        "Now we can see the significant improvement of the classifier's performance.\n",
        "\n",
        "Next, let's review tuning/testing loss and performance. The information is stored in the log file directory './logs/BERT_exp'."
      ]
    },
    {
      "cell_type": "code",
      "execution_count": null,
      "metadata": {
        "id": "8yVLz_qIULRh"
      },
      "outputs": [],
      "source": [
        "def GetTuningStats(path):\n",
        "    metrices = pd.read_csv(path)\n",
        "    training_metric = metrices[['train_acc_epoch','train_loss_epoch']].dropna().reset_index(drop=True)\n",
        "    validate_metric = metrices[['val_acc','val_loss']].dropna().reset_index(drop=True)\n",
        "    testing_metric = metrices[['test_acc']].dropna().reset_index(drop=True)\n",
        "    merge_matrices = pd.merge(training_metric,validate_metric, left_index=True, right_index=True)\n",
        "    return testing_metric, merge_matrices"
      ]
    },
    {
      "cell_type": "code",
      "execution_count": null,
      "metadata": {
        "id": "Zm5OKFwsyCKb",
        "outputId": "7f0deb05-b3f1-4a12-a8ec-5afdea921516"
      },
      "outputs": [
        {
          "data": {
            "text/html": [
              "<div>\n",
              "<style scoped>\n",
              "    .dataframe tbody tr th:only-of-type {\n",
              "        vertical-align: middle;\n",
              "    }\n",
              "\n",
              "    .dataframe tbody tr th {\n",
              "        vertical-align: top;\n",
              "    }\n",
              "\n",
              "    .dataframe thead th {\n",
              "        text-align: right;\n",
              "    }\n",
              "</style>\n",
              "<table border=\"1\" class=\"dataframe\">\n",
              "  <thead>\n",
              "    <tr style=\"text-align: right;\">\n",
              "      <th></th>\n",
              "      <th>test_acc</th>\n",
              "    </tr>\n",
              "  </thead>\n",
              "  <tbody>\n",
              "    <tr>\n",
              "      <th>0</th>\n",
              "      <td>0.148571</td>\n",
              "    </tr>\n",
              "    <tr>\n",
              "      <th>1</th>\n",
              "      <td>0.770000</td>\n",
              "    </tr>\n",
              "  </tbody>\n",
              "</table>\n",
              "</div>"
            ],
            "text/plain": [
              "   test_acc\n",
              "0  0.148571\n",
              "1  0.770000"
            ]
          },
          "execution_count": 34,
          "metadata": {},
          "output_type": "execute_result"
        }
      ],
      "source": [
        "BERT_performance, BERT_losses = GetTuningStats('./logs/BERT_exp/version_1/metrics.csv')\n",
        "BERT_performance"
      ]
    },
    {
      "cell_type": "markdown",
      "metadata": {
        "id": "CpJ01HgXyCKb"
      },
      "source": [
        "The improvement is obvious and significant!!!\n",
        "\n",
        "Let's take a look at plot of the losses."
      ]
    },
    {
      "cell_type": "code",
      "execution_count": null,
      "metadata": {
        "id": "hqcg3Ve6ULRj",
        "outputId": "6b9efa74-66eb-4629-9f85-6c156c3898f3"
      },
      "outputs": [
        {
          "data": {
            "text/plain": [
              "<Axes: >"
            ]
          },
          "execution_count": 35,
          "metadata": {},
          "output_type": "execute_result"
        },
        {
          "data": {
            "image/png": "[encoded data removed]",
            "text/plain": [
              "<Figure size 640x480 with 1 Axes>"
            ]
          },
          "metadata": {},
          "output_type": "display_data"
        },
        {
          "data": {
            "image/png": "[encoded data removed]",
            "text/plain": [
              "<Figure size 640x480 with 1 Axes>"
            ]
          },
          "metadata": {},
          "output_type": "display_data"
        }
      ],
      "source": [
        "# Losses of each epoch\n",
        "BERT_losses[['train_loss_epoch','val_loss']].plot()\n",
        "# Accuracy of each epoch\n",
        "BERT_losses[['train_acc_epoch','val_acc']].plot()"
      ]
    },
    {
      "cell_type": "markdown",
      "metadata": {
        "id": "VlMac-7jyCKc"
      },
      "source": [
        "The code below shows how to save and load the classifier for future use."
      ]
    },
    {
      "cell_type": "code",
      "execution_count": null,
      "metadata": {
        "id": "DyLOy9PtULRm"
      },
      "outputs": [],
      "source": [
        "# # saving\n",
        "# torch.save(BERTcls.state_dict(), './bert.pt')\n",
        "# # loading\n",
        "# saved_model = BERTClassifier(\n",
        "#     model=BERT_MODEL,\n",
        "#     num_class=CLASSES,\n",
        "#     learning_rate=LEARNING_RATE,\n",
        "#     epoch=EPOCH,\n",
        "#     train_size=TRAIN_SIZE)\n",
        "# saved_model.load_state_dict(torch.load('./bert.pt'))\n",
        "# saved_model.eval()"
      ]
    },
    {
      "cell_type": "markdown",
      "metadata": {
        "id": "kFIb8l8wULRt"
      },
      "source": [
        "***"
      ]
    },
    {
      "cell_type": "markdown",
      "metadata": {
        "id": "9FDlTnRKULRt"
      },
      "source": [
        "## T5 tuning"
      ]
    },
    {
      "cell_type": "markdown",
      "metadata": {
        "id": "2nwfwa9mULRu"
      },
      "source": [
        "Tuning process of T5 is similar to that of BERT. We need to create ```DataModule``` and add training, testing, validating functions to ```T5Classifier```. We also need to add optimizer to the classifier.  \n",
        "\n",
        "The code below shows ```T5DatModule```."
      ]
    },
    {
      "cell_type": "code",
      "execution_count": null,
      "metadata": {
        "id": "LGCLepfzULR5"
      },
      "outputs": [],
      "source": [
        "class T5DataModule(pl.LightningDataModule):\n",
        "    def __init__(self, traindf, valdf, testdf, batch_size, tokenizer, text_maxlength, label_maxlength, datacolumn, labelcolumn):\n",
        "        super().__init__()\n",
        "        # dataset\n",
        "        self.datacolumn = datacolumn\n",
        "        self.labelcolumn = labelcolumn\n",
        "        self.traindf = traindf\n",
        "        self.valdf = valdf\n",
        "        self.testdf = testdf\n",
        "        # parameters\n",
        "        self.batch_size = batch_size\n",
        "        self.text_maxlength = text_maxlength\n",
        "        self.label_maxlength = label_maxlength\n",
        "        # tokenizer\n",
        "        self.tokenizer = tokenizer\n",
        "\n",
        "    def setup(self, stage=None):\n",
        "        self.train_dataset = T5Dataset( self.traindf, self.tokenizer, self.text_maxlength, self.label_maxlength, self.datacolumn, self.labelcolumn)\n",
        "        self.val_dataset = T5Dataset( self.valdf, self.tokenizer, self.text_maxlength, self.label_maxlength, self.datacolumn, self.labelcolumn)\n",
        "        self.test_dataset = T5Dataset( self.testdf, self.tokenizer, self.text_maxlength, self.label_maxlength, self.datacolumn, self.labelcolumn)\n",
        "\n",
        "    def train_dataloader(self):\n",
        "        return DataLoader( self.train_dataset, batch_size=self.batch_size, shuffle=True)\n",
        "\n",
        "    def val_dataloader(self):\n",
        "        return DataLoader( self.val_dataset, batch_size=self.batch_size)\n",
        "\n",
        "    def test_dataloader(self):\n",
        "        return DataLoader( self.test_dataset, batch_size=self.batch_size)"
      ]
    },
    {
      "cell_type": "markdown",
      "metadata": {
        "id": "fCVZRSGeyCKd"
      },
      "source": [
        "```T5DataModule``` is similar to that of BERT. The main difference is that it stores ```T5Dataset``` which needs different parameters.\n",
        "\n",
        "In the previous section, we did not need a ```forward``` function because we only generated emotions. However, for fine-tuning, we need to define a ```forward``` function to return loss.\n",
        "\n",
        "```python\n",
        "    def forward(self, input_ids, attention_mask, labels=None, decoder_attention_mask=None):\n",
        "        outputs = self.model(input_ids=input_ids,\n",
        "                        attention_mask=attention_mask,\n",
        "                        labels=labels,\n",
        "                        decoder_attention_mask=decoder_attention_mask)\n",
        "        return outputs.loss, outputs.logits\n",
        "```\n",
        "\n",
        "The ```forward``` function passes a batch input through the model (T5). Then, it returns loss.  "
      ]
    },
    {
      "cell_type": "markdown",
      "metadata": {
        "id": "CMWTR5FmyCKd"
      },
      "source": [
        "Because the ```forward``` function returns loss, the ```training_step``` function directly returns (passes on) loss from the ```forward``` function. This function also records loss and training performance. For testing training performance, we use the model's ```generate``` function to generate emotion category label, then compare it with corresponding label in the train data.\n",
        "\n",
        "\n",
        "\n",
        "```python\n",
        "    def training_step(self, batch, batch_idx):\n",
        "        input_ids = batch[\"input_ids\"]\n",
        "        attention_mask = batch[\"attention_mask\"]\n",
        "        labels = batch[\"label_ids\"]\n",
        "        decoder_attention_mask = batch[\"label_mask\"]\n",
        "\n",
        "        loss, output = self(input_ids, attention_mask, labels, decoder_attention_mask)\n",
        "        pred = self.model.generate(input_ids=input_ids,\n",
        "                                     attention_mask=attention_mask,\n",
        "                                     max_length=self.generated_max_length)\n",
        "\n",
        "        self.log('train_acc', self.accuracy_score(output, labels), on_epoch=True)\n",
        "        self.log('train_loss', loss,  on_epoch=True)\n",
        "\n",
        "        return loss\n",
        "```"
      ]
    },
    {
      "cell_type": "markdown",
      "metadata": {
        "id": "wUH2DCJpyCKd"
      },
      "source": [
        "The accuracy evaluation function is defined as follows.  \n",
        "\n",
        "```python\n",
        "    def accuracy_score(self,preds,labels):\n",
        "        _preds = [self.tokenizer.decode(p,skip_special_tokens=True) for p in preds]\n",
        "        _labels = [self.tokenizer.decode(l,skip_special_tokens=True) for l in labels]\n",
        "        return sum([1 if _p==_l else 0 for _p ,_l in zip(_preds,_labels)])/len(_labels)\n",
        "```\n",
        "\n",
        "Here we decode the generated text and label, then calculate and return the accuracy score."
      ]
    },
    {
      "cell_type": "markdown",
      "metadata": {
        "id": "MPqncfCLyCKd"
      },
      "source": [
        "Validating process is similar to the training. For the testing step, we use T5 to generate emotion category labels and call ```accuracy_score``` function to evaluate the performance of the classifier. The optimizer used for T5 is similar to that of BERT's. Therefore, ```T5Classifier``` can be defined as follows."
      ]
    },
    {
      "cell_type": "code",
      "execution_count": null,
      "metadata": {
        "id": "cflX6WtcULR5"
      },
      "outputs": [],
      "source": [
        "class T5Classifier(pl.LightningModule):\n",
        "    def __init__(self, model, tokenizer, epoch, train_size, generated_max_length, learning_rate):\n",
        "        super(T5Classifier, self).__init__()\n",
        "        self.model = model\n",
        "        self.tokenizer = tokenizer\n",
        "        self.epoch = epoch\n",
        "        self.train_size = train_size\n",
        "        self.generated_max_length = generated_max_length\n",
        "        self.learning_rate = learning_rate\n",
        "\n",
        "    def forward(self, input_ids, attention_mask, labels=None, decoder_attention_mask=None):\n",
        "        outputs = self.model(input_ids=input_ids,\n",
        "                        attention_mask=attention_mask,\n",
        "                        labels=labels,\n",
        "                        decoder_attention_mask=decoder_attention_mask)\n",
        "        return outputs.loss, outputs.logits\n",
        "\n",
        "    def accuracy_score(self,preds,labels):\n",
        "        _preds = [self.tokenizer.decode(p,skip_special_tokens=True) for p in preds]\n",
        "        _labels = [self.tokenizer.decode(l,skip_special_tokens=True) for l in labels]\n",
        "        return sum([1 if _p==_l else 0 for _p ,_l in zip(_preds,_labels)])/len(_labels)\n",
        "\n",
        "\n",
        "    def training_step(self, batch, batch_idx):\n",
        "        input_ids = batch[\"input_ids\"]\n",
        "        attention_mask = batch[\"attention_mask\"]\n",
        "        labels = batch[\"label_ids\"]\n",
        "        decoder_attention_mask = batch[\"label_mask\"]\n",
        "\n",
        "        loss, output = self(input_ids, attention_mask, labels, decoder_attention_mask)\n",
        "        pred = self.model.generate(input_ids=input_ids,\n",
        "                                   max_length=self.generated_max_length)\n",
        "\n",
        "        self.log('train_acc', self.accuracy_score(pred, labels), on_epoch=True)\n",
        "        self.log('train_loss', loss,  on_epoch=True)\n",
        "\n",
        "        return loss\n",
        "\n",
        "    def validation_step(self, batch, batch_idx):\n",
        "        input_ids = batch[\"input_ids\"]\n",
        "        attention_mask = batch[\"attention_mask\"]\n",
        "        labels = batch[\"label_ids\"]\n",
        "        decoder_attention_mask = batch[\"label_mask\"]\n",
        "\n",
        "        loss, output = self(input_ids, attention_mask, labels, decoder_attention_mask)\n",
        "\n",
        "        pred = self.model.generate(input_ids=input_ids,\n",
        "                                   max_length=self.generated_max_length)\n",
        "\n",
        "        self.log('val_acc', self.accuracy_score(pred, labels))\n",
        "        self.log('val_loss', loss)\n",
        "\n",
        "        return loss\n",
        "\n",
        "    def test_step(self, batch, batch_idx):\n",
        "        input_ids = batch[\"input_ids\"]\n",
        "        output = self.model.generate(input_ids=input_ids,\n",
        "                                     max_length=self.generated_max_length)\n",
        "        self.log('test_acc', self.accuracy_score(output, batch[\"label_ids\"]))\n",
        "\n",
        "    def configure_optimizers(self):\n",
        "        optimizer = AdamW(self.model.parameters(), lr=self.learning_rate)\n",
        "        scheduler = get_linear_schedule_with_warmup(\n",
        "                optimizer, num_warmup_steps=0,\n",
        "                num_training_steps=self.epoch*self.train_size)\n",
        "        return {'optimizer': optimizer, 'lr_scheduler': scheduler}"
      ]
    },
    {
      "cell_type": "markdown",
      "metadata": {
        "id": "oTpwQnWtyCKd"
      },
      "source": [
        "Now, let's set up parameters, data module, and classifier."
      ]
    },
    {
      "cell_type": "code",
      "execution_count": null,
      "metadata": {
        "id": "xq7PaS4aULR6"
      },
      "outputs": [],
      "source": [
        "# parameters\n",
        "EPOCH = 2\n",
        "BATCH_SIZE = 8\n",
        "LABEL_LENGTH = 2\n",
        "LEARNING_RATE = 2e-5\n",
        "MODEL_MAX_LENGTH = T5_TOKENIZER.model_max_length\n",
        "\n",
        "DATACOLUMN = 'text'\n",
        "T5LABELCOLUMN = 'emotion'"
      ]
    },
    {
      "cell_type": "code",
      "execution_count": null,
      "metadata": {
        "id": "em5JMU5UULR6"
      },
      "outputs": [],
      "source": [
        "# datamodule\n",
        "T5data = T5DataModule(traindf = dataset['train'],\n",
        "                      valdf = dataset['val'],\n",
        "                      testdf = dataset['test'],\n",
        "                      batch_size = BATCH_SIZE,\n",
        "                      tokenizer = T5_TOKENIZER,\n",
        "                      text_maxlength = MODEL_MAX_LENGTH,\n",
        "                      label_maxlength = LABEL_LENGTH,\n",
        "                      datacolumn = DATACOLUMN,\n",
        "                      labelcolumn = T5LABELCOLUMN)\n",
        "T5data.setup()"
      ]
    },
    {
      "cell_type": "code",
      "execution_count": null,
      "metadata": {
        "id": "6bFSlPpQULR6"
      },
      "outputs": [],
      "source": [
        "# Save directory\n",
        "logger = CSVLogger(\"./logs\", name='T5_ekman', version=1)\n",
        "\n",
        "# Classifier\n",
        "T5cls = T5Classifier(model = T5_MODEL,\n",
        "                     tokenizer = T5_TOKENIZER,\n",
        "                     epoch = EPOCH,\n",
        "                     train_size = TRAIN_SIZE,\n",
        "                     generated_max_length = LABEL_LENGTH,\n",
        "                     learning_rate=LEARNING_RATE)"
      ]
    },
    {
      "cell_type": "code",
      "execution_count": null,
      "metadata": {
        "id": "JQCmti6WyCKd",
        "outputId": "ee36adce-175b-4e7c-d2dd-f994d40df031"
      },
      "outputs": [
        {
          "name": "stderr",
          "output_type": "stream",
          "text": [
            "Using 16bit Automatic Mixed Precision (AMP)\n",
            "GPU available: True (cuda), used: True\n",
            "TPU available: False, using: 0 TPU cores\n",
            "IPU available: False, using: 0 IPUs\n",
            "HPU available: False, using: 0 HPUs\n"
          ]
        }
      ],
      "source": [
        "# Trainer for tuning\n",
        "trainer = pl.Trainer(\n",
        "    accelerator=\"auto\",\n",
        "    devices=\"auto\",\n",
        "    max_epochs=EPOCH,\n",
        "    precision=\"16-mixed\",\n",
        "    logger=logger)"
      ]
    },
    {
      "cell_type": "markdown",
      "metadata": {
        "id": "xFxz676QyCKd"
      },
      "source": [
        "Let's evaluate our classifier before tuning first."
      ]
    },
    {
      "cell_type": "code",
      "execution_count": null,
      "metadata": {
        "colab": {
          "referenced_widgets": [
            "07bd237094114998bad898dfa93efbd9"
          ]
        },
        "id": "ksjI0XYayCKd",
        "outputId": "342b2ff9-6f14-4211-f51b-e8e173c8676c"
      },
      "outputs": [
        {
          "name": "stderr",
          "output_type": "stream",
          "text": [
            "e:\\miniconda3\\envs\\phdenv\\Lib\\site-packages\\lightning\\fabric\\loggers\\csv_logs.py:268: Experiment logs directory ./logs\\T5_ekman\\version_1 exists and is not empty. Previous log files in this directory will be deleted when the new ones are saved!\n",
            "LOCAL_RANK: 0 - CUDA_VISIBLE_DEVICES: [0]\n",
            "e:\\miniconda3\\envs\\phdenv\\Lib\\site-packages\\pytorch_lightning\\trainer\\connectors\\data_connector.py:441: The 'test_dataloader' does not have many workers which may be a bottleneck. Consider increasing the value of the `num_workers` argument` to `num_workers=15` in the `DataLoader` to improve performance.\n"
          ]
        },
        {
          "data": {
            "application/vnd.jupyter.widget-view+json": {
              "model_id": "07bd237094114998bad898dfa93efbd9",
              "version_major": 2,
              "version_minor": 0
            },
            "text/plain": [
              "Testing: |          | 0/? [00:00<?, ?it/s]"
            ]
          },
          "metadata": {},
          "output_type": "display_data"
        },
        {
          "name": "stdout",
          "output_type": "stream",
          "text": [
            "────────────────────────────────────────────────────────────────────────────────────────────────────────────────────────\n",
            "       Test metric             DataLoader 0\n",
            "────────────────────────────────────────────────────────────────────────────────────────────────────────────────────────\n",
            "        test_acc                    0.0\n",
            "────────────────────────────────────────────────────────────────────────────────────────────────────────────────────────\n"
          ]
        },
        {
          "data": {
            "text/plain": [
              "[{'test_acc': 0.0}]"
            ]
          },
          "execution_count": 43,
          "metadata": {},
          "output_type": "execute_result"
        }
      ],
      "source": [
        "trainer.test(T5cls, T5data)"
      ]
    },
    {
      "cell_type": "markdown",
      "metadata": {
        "id": "R7FbHWEqyCKe"
      },
      "source": [
        "Start tuning"
      ]
    },
    {
      "cell_type": "code",
      "execution_count": null,
      "metadata": {
        "colab": {
          "referenced_widgets": [
            "f92238d1a1aa46ac831b6f93e0b0dd2a",
            "4be046d2265a493296f83fa8e4823fa7",
            "459921b1ac1d4f209453932fa611d2b7",
            "9ed7f4b5da924fba9c0cee9191336b70"
          ]
        },
        "id": "bw-CbgDsyCKe",
        "outputId": "c30d02dd-41b4-4981-af29-5b1894908481"
      },
      "outputs": [
        {
          "name": "stderr",
          "output_type": "stream",
          "text": [
            "e:\\miniconda3\\envs\\phdenv\\Lib\\site-packages\\pytorch_lightning\\callbacks\\model_checkpoint.py:653: Checkpoint directory ./logs\\T5_ekman\\version_1\\checkpoints exists and is not empty.\n",
            "LOCAL_RANK: 0 - CUDA_VISIBLE_DEVICES: [0]\n",
            "e:\\miniconda3\\envs\\phdenv\\Lib\\site-packages\\transformers\\optimization.py:588: FutureWarning: This implementation of AdamW is deprecated and will be removed in a future version. Use the PyTorch implementation torch.optim.AdamW instead, or set `no_deprecation_warning=True` to disable this warning\n",
            "  warnings.warn(\n",
            "\n",
            "  | Name  | Type                       | Params\n",
            "-----------------------------------------------------\n",
            "0 | model | T5ForConditionalGeneration | 60.5 M\n",
            "-----------------------------------------------------\n",
            "60.5 M    Trainable params\n",
            "0         Non-trainable params\n",
            "60.5 M    Total params\n",
            "242.026   Total estimated model params size (MB)\n"
          ]
        },
        {
          "data": {
            "application/vnd.jupyter.widget-view+json": {
              "model_id": "f92238d1a1aa46ac831b6f93e0b0dd2a",
              "version_major": 2,
              "version_minor": 0
            },
            "text/plain": [
              "Sanity Checking: |          | 0/? [00:00<?, ?it/s]"
            ]
          },
          "metadata": {},
          "output_type": "display_data"
        },
        {
          "name": "stderr",
          "output_type": "stream",
          "text": [
            "e:\\miniconda3\\envs\\phdenv\\Lib\\site-packages\\pytorch_lightning\\trainer\\connectors\\data_connector.py:441: The 'val_dataloader' does not have many workers which may be a bottleneck. Consider increasing the value of the `num_workers` argument` to `num_workers=15` in the `DataLoader` to improve performance.\n",
            "e:\\miniconda3\\envs\\phdenv\\Lib\\site-packages\\pytorch_lightning\\trainer\\connectors\\data_connector.py:441: The 'train_dataloader' does not have many workers which may be a bottleneck. Consider increasing the value of the `num_workers` argument` to `num_workers=15` in the `DataLoader` to improve performance.\n"
          ]
        },
        {
          "data": {
            "application/vnd.jupyter.widget-view+json": {
              "model_id": "4be046d2265a493296f83fa8e4823fa7",
              "version_major": 2,
              "version_minor": 0
            },
            "text/plain": [
              "Training: |          | 0/? [00:00<?, ?it/s]"
            ]
          },
          "metadata": {},
          "output_type": "display_data"
        },
        {
          "data": {
            "application/vnd.jupyter.widget-view+json": {
              "model_id": "459921b1ac1d4f209453932fa611d2b7",
              "version_major": 2,
              "version_minor": 0
            },
            "text/plain": [
              "Validation: |          | 0/? [00:00<?, ?it/s]"
            ]
          },
          "metadata": {},
          "output_type": "display_data"
        },
        {
          "data": {
            "application/vnd.jupyter.widget-view+json": {
              "model_id": "9ed7f4b5da924fba9c0cee9191336b70",
              "version_major": 2,
              "version_minor": 0
            },
            "text/plain": [
              "Validation: |          | 0/? [00:00<?, ?it/s]"
            ]
          },
          "metadata": {},
          "output_type": "display_data"
        },
        {
          "name": "stderr",
          "output_type": "stream",
          "text": [
            "`Trainer.fit` stopped: `max_epochs=2` reached.\n"
          ]
        }
      ],
      "source": [
        "trainer.fit(T5cls, T5data)"
      ]
    },
    {
      "cell_type": "markdown",
      "metadata": {
        "id": "tW_kb3p4yCKe"
      },
      "source": [
        "Now, let's evaluate the classifier after tuning."
      ]
    },
    {
      "cell_type": "code",
      "execution_count": null,
      "metadata": {
        "colab": {
          "referenced_widgets": [
            "9ca5c4e2bb354056b6a326404dcb2371",
            "1241c99d4d344de1b5415b286c573b03"
          ]
        },
        "id": "HDYLbP6tULR6",
        "outputId": "9d071671-64cd-4a7f-83dc-0b68de937a94"
      },
      "outputs": [
        {
          "name": "stderr",
          "output_type": "stream",
          "text": [
            "LOCAL_RANK: 0 - CUDA_VISIBLE_DEVICES: [0]\n"
          ]
        },
        {
          "data": {
            "application/vnd.jupyter.widget-view+json": {
              "model_id": "1241c99d4d344de1b5415b286c573b03",
              "version_major": 2,
              "version_minor": 0
            },
            "text/plain": [
              "Testing: |          | 0/? [00:00<?, ?it/s]"
            ]
          },
          "metadata": {},
          "output_type": "display_data"
        },
        {
          "name": "stdout",
          "output_type": "stream",
          "text": [
            "────────────────────────────────────────────────────────────────────────────────────────────────────────────────────────\n",
            "       Test metric             DataLoader 0\n",
            "────────────────────────────────────────────────────────────────────────────────────────────────────────────────────────\n",
            "        test_acc            0.6228571534156799\n",
            "────────────────────────────────────────────────────────────────────────────────────────────────────────────────────────\n"
          ]
        },
        {
          "data": {
            "text/plain": [
              "[{'test_acc': 0.6228571534156799}]"
            ]
          },
          "execution_count": 45,
          "metadata": {},
          "output_type": "execute_result"
        }
      ],
      "source": [
        "trainer.test(T5cls, T5data)"
      ]
    },
    {
      "cell_type": "markdown",
      "metadata": {
        "id": "IEyB6nKOyCKe"
      },
      "source": [
        "Next, let's review performance and losses."
      ]
    },
    {
      "cell_type": "code",
      "execution_count": null,
      "metadata": {
        "id": "yXSBCpsEULR7",
        "outputId": "cc7defb2-cc85-480b-f9bc-c34da71418c4"
      },
      "outputs": [
        {
          "data": {
            "text/html": [
              "<div>\n",
              "<style scoped>\n",
              "    .dataframe tbody tr th:only-of-type {\n",
              "        vertical-align: middle;\n",
              "    }\n",
              "\n",
              "    .dataframe tbody tr th {\n",
              "        vertical-align: top;\n",
              "    }\n",
              "\n",
              "    .dataframe thead th {\n",
              "        text-align: right;\n",
              "    }\n",
              "</style>\n",
              "<table border=\"1\" class=\"dataframe\">\n",
              "  <thead>\n",
              "    <tr style=\"text-align: right;\">\n",
              "      <th></th>\n",
              "      <th>test_acc</th>\n",
              "    </tr>\n",
              "  </thead>\n",
              "  <tbody>\n",
              "    <tr>\n",
              "      <th>0</th>\n",
              "      <td>0.000000</td>\n",
              "    </tr>\n",
              "    <tr>\n",
              "      <th>1</th>\n",
              "      <td>0.622857</td>\n",
              "    </tr>\n",
              "  </tbody>\n",
              "</table>\n",
              "</div>"
            ],
            "text/plain": [
              "   test_acc\n",
              "0  0.000000\n",
              "1  0.622857"
            ]
          },
          "execution_count": 46,
          "metadata": {},
          "output_type": "execute_result"
        }
      ],
      "source": [
        "t5_performance , t5_losses = GetTuningStats('./logs/T5_ekman/version_1/metrics.csv')\n",
        "t5_performance"
      ]
    },
    {
      "cell_type": "code",
      "execution_count": null,
      "metadata": {
        "id": "WkJd1On8ULR7",
        "outputId": "2686b77b-2eee-4913-af07-9d2abb5c1a61"
      },
      "outputs": [
        {
          "data": {
            "text/plain": [
              "<Axes: >"
            ]
          },
          "execution_count": 47,
          "metadata": {},
          "output_type": "execute_result"
        },
        {
          "data": {
            "image/png": "[encoded data removed]",
            "text/plain": [
              "<Figure size 640x480 with 1 Axes>"
            ]
          },
          "metadata": {},
          "output_type": "display_data"
        },
        {
          "data": {
            "image/png": "[encoded data removed]",
            "text/plain": [
              "<Figure size 640x480 with 1 Axes>"
            ]
          },
          "metadata": {},
          "output_type": "display_data"
        }
      ],
      "source": [
        "t5_losses[['train_loss_epoch','val_loss']].plot()\n",
        "t5_losses[['train_acc_epoch','val_acc']].plot()"
      ]
    },
    {
      "cell_type": "markdown",
      "metadata": {
        "id": "a8TMET-ryCKe"
      },
      "source": [
        "We can also save T5 classifier."
      ]
    },
    {
      "cell_type": "code",
      "execution_count": null,
      "metadata": {
        "id": "4LFZce3tULR7"
      },
      "outputs": [],
      "source": [
        "# # saving\n",
        "# torch.save(T5cls.state_dict(), './t5.pt')\n",
        "# # loading\n",
        "# saved_model = T5Classifier(model = T5_MODEL,\n",
        "                    #  tokenizer = T5_TOKENIZER,\n",
        "                    #  epoch = EPOCH,\n",
        "                    #  train_size = TRAIN_SIZE,\n",
        "                    #  generated_max_length = LABEL_LENGTH,\n",
        "                    #  learning_rate=LEARNING_RATE)\n",
        "# saved_model.load_state_dict(torch.load('./t5.pt'))\n",
        "# saved_model.eval()"
      ]
    },
    {
      "cell_type": "markdown",
      "metadata": {
        "id": "kUlprcF9yCKf"
      },
      "source": [
        "Let's compare the performance of the two classifiers before and after tuning."
      ]
    },
    {
      "cell_type": "code",
      "execution_count": null,
      "metadata": {
        "id": "xcTYgvQKyCKf",
        "outputId": "01077f8d-f318-464d-9dc2-f14d7fd7a23b"
      },
      "outputs": [
        {
          "data": {
            "image/png": "[encoded data removed]",
            "text/plain": [
              "<Figure size 573.875x500 with 1 Axes>"
            ]
          },
          "metadata": {},
          "output_type": "display_data"
        }
      ],
      "source": [
        "perm = {'model': ['bert','bert','t5','t5'],\n",
        "        'tune':['no','yes','no','yes'],\n",
        "        'acc':[BERT_performance['test_acc'][0],BERT_performance['test_acc'][1],\n",
        "               t5_performance['test_acc'][0],t5_performance['test_acc'][1]]}\n",
        "_perm = pd.DataFrame(perm)\n",
        "g = sns.catplot(x='model', y='acc', hue='tune', data=_perm, kind='bar', height=5, aspect=1)\n"
      ]
    },
    {
      "cell_type": "markdown",
      "metadata": {
        "id": "X697TerOyCKf"
      },
      "source": [
        "We can see big differences of accuracy before and after the tuning. The dataset used for training is just a small sample. The full dataset can be download here (<a href='https://huggingface.co/datasets/google-research-datasets/go_emotions'>GoEmotion full dataset</a>). We can improve the performance by tuning with more data.  \n",
        "\n",
        "Datasets and LLMs are available from website <a href='https://huggingface.co/'>Hugging Face</a>, including tuned models. If you do not want to spend time tuning the models, you can use one from the website.\n",
        "\n",
        "Let's try some pre-trained models for emotion classification.\n",
        "We select an emotion classifier named <a href='https://huggingface.co/j-hartmann/emotion-english-distilroberta-base'>j-hartmann/emotion-english-distilroberta-base</a>. The model was trained on six datasets, including the GoEmotion dataset. It is a RoBERTa based model and can classify 7 emotion categories (similar to Ekman's categories). So, let's test it using our test dataset."
      ]
    },
    {
      "cell_type": "code",
      "execution_count": null,
      "metadata": {
        "id": "fUN1dVGHyCKf"
      },
      "outputs": [],
      "source": [
        "model_name = \"j-hartmann/emotion-english-distilroberta-base\"\n",
        "h_tokenizer1 = AutoTokenizer.from_pretrained(model_name)\n",
        "h_model1 = AutoModelForSequenceClassification.from_pretrained(model_name)\n",
        "\n",
        "testdata_hg = BERTDataset(df=dataset['test'],\n",
        "                          tokenizer=h_tokenizer1,\n",
        "                          max_length=512,\n",
        "                          datacolumn=DATACOLUMN,\n",
        "                          labelcolumn=BERTLABLECOLUMN)\n",
        "\n",
        "trainer = Trainer(model=h_model1)\n"
      ]
    },
    {
      "cell_type": "markdown",
      "metadata": {
        "id": "jddO6chhyCKf"
      },
      "source": [
        "The model can be download from Hugging Face directly using ```transformer``` by identifying the name of the model. In this case, the name is \"j-hartmann/emotion-english-distilroberta-base\". Usually, the authors of the model give instruction on how to use the model for simple usage.  \n",
        "\n",
        "The code below shows how to classify emotions using the model and produce evaluation output."
      ]
    },
    {
      "cell_type": "code",
      "execution_count": null,
      "metadata": {
        "colab": {
          "referenced_widgets": [
            "67574210cc124f5c88cdd7c1783f5de8"
          ]
        },
        "id": "2LBUwS2PyCKf",
        "outputId": "767ca7ef-5b13-4b79-f3e4-497e40f81508"
      },
      "outputs": [
        {
          "data": {
            "application/vnd.jupyter.widget-view+json": {
              "model_id": "67574210cc124f5c88cdd7c1783f5de8",
              "version_major": 2,
              "version_minor": 0
            },
            "text/plain": [
              "  0%|          | 0/88 [00:00<?, ?it/s]"
            ]
          },
          "metadata": {},
          "output_type": "display_data"
        },
        {
          "data": {
            "text/plain": [
              "0.7585714285714286"
            ]
          },
          "execution_count": 51,
          "metadata": {},
          "output_type": "execute_result"
        }
      ],
      "source": [
        "predictions = trainer.predict(testdata_hg)\n",
        "preds = predictions.predictions.argmax(-1)\n",
        "labels = pd.Series(preds).map(h_model1.config.id2label)\n",
        "actual = dataset['test'].emotion\n",
        "hg1_acc = accuracy(actual_label= actual, pred=labels)\n",
        "hg1_acc"
      ]
    },
    {
      "cell_type": "markdown",
      "metadata": {
        "id": "wVLjAHn9yCKf"
      },
      "source": [
        "We can see the accuracy is around 0.42.\n",
        "\n",
        "Next, let's try one more model with T5 based classifier."
      ]
    },
    {
      "cell_type": "code",
      "execution_count": null,
      "metadata": {
        "id": "IEfSTMityCKf",
        "outputId": "eeaf10d7-a403-49b1-bf06-2aeed4b9e8dd"
      },
      "outputs": [
        {
          "name": "stderr",
          "output_type": "stream",
          "text": [
            "e:\\miniconda3\\envs\\phdenv\\Lib\\site-packages\\transformers\\models\\auto\\modeling_auto.py:1712: FutureWarning: The class `AutoModelWithLMHead` is deprecated and will be removed in a future version. Please use `AutoModelForCausalLM` for causal language models, `AutoModelForMaskedLM` for masked language models and `AutoModelForSeq2SeqLM` for encoder-decoder models.\n",
            "  warnings.warn(\n"
          ]
        },
        {
          "data": {
            "text/plain": [
              "0.4042857142857143"
            ]
          },
          "execution_count": 52,
          "metadata": {},
          "output_type": "execute_result"
        }
      ],
      "source": [
        "\n",
        "h_model2 = AutoModelWithLMHead.from_pretrained(\"mrm8488/t5-small-finetuned-emotion\").to(device)\n",
        "h_tokenizer2 = AutoTokenizer.from_pretrained(\"mrm8488/t5-small-finetuned-emotion\")\n",
        "\n",
        "\n",
        "def get_emotion(text):\n",
        "  input_ids = h_tokenizer2.encode(text + '</s>', return_tensors='pt').to(device)\n",
        "  output = h_model2.generate(input_ids=input_ids,\n",
        "               max_length=2)\n",
        "  dec = [h_tokenizer2.decode(ids, skip_special_tokens=True) for ids in output]\n",
        "  label = dec[0]\n",
        "  return label\n",
        "\n",
        "def get_performance(data = dataset['test'].text):\n",
        "  preds = [get_emotion(text) for text in data]\n",
        "  return accuracy(actual_label=actual,pred=preds)\n",
        "\n",
        "hg2_acc = get_performance()\n",
        "hg2_acc"
      ]
    },
    {
      "cell_type": "markdown",
      "metadata": {
        "id": "Zc-fOgQWyCKf"
      },
      "source": [
        "The above model is <a href='https://huggingface.co/mrm8488/t5-small-finetuned-emotion'>mrm8488/t5-small-finetuned-emotion</a>, which is based on T5-small and is trained using <a href='https://huggingface.co/datasets/dair-ai/emotion'>dair-ai dataset</a>. It can classify text into six emotions excluding neutral. Its performance is comparable to the previous model.  \n",
        "\n",
        "Next, let's compare the performance of Hugging Face model with our tuned models."
      ]
    },
    {
      "cell_type": "code",
      "execution_count": null,
      "metadata": {
        "id": "dsA4P0s_yCKg",
        "outputId": "b02f24b9-120a-4d27-eea2-22a619349f6f"
      },
      "outputs": [
        {
          "data": {
            "image/png": "[encoded data removed]",
            "text/plain": [
              "<Figure size 573.875x500 with 1 Axes>"
            ]
          },
          "metadata": {},
          "output_type": "display_data"
        }
      ],
      "source": [
        "def addrow(df, row):\n",
        "    df.loc[-1] = row\n",
        "    df.index = df.index + 1\n",
        "    df = df.sort_index()\n",
        "    return df\n",
        "\n",
        "__perm = addrow(_perm, ['hg_roberta','hg',hg1_acc])\n",
        "__perm = addrow(__perm, ['hg_t5','hg',hg2_acc])\n",
        "g = sns.catplot(x='model', y='acc', hue='tune', data=__perm, kind='bar', height=5, aspect=1)"
      ]
    },
    {
      "cell_type": "markdown",
      "metadata": {
        "id": "-f1NQzVRyCKg"
      },
      "source": [
        "From the bar charts above, we can see that our tuned models perform better than the models from Hugging Face. However, the models from Hugging Face provide a better starting point compared to our base models. We might be able to achieve better results if we chose these models for tuning!!!    "
      ]
    },
    {
      "cell_type": "markdown",
      "metadata": {
        "id": "Vl2yYryfyCKg"
      },
      "source": [
        "# Key Takeaways from the Tutorial\n",
        "\n",
        "We hope you find this tutorial useful, even interesting!\n",
        "\n",
        "After the tutorial, you will have gained knowledge and hands-on experiences of using LLMs for automatic emotion classification, including tuning them for better results.\n",
        "\n",
        "You can test the techniques further and develop better emotion classification software using the LLMs in the Hackathon sessions."
      ]
    },
    {
      "cell_type": "markdown",
      "metadata": {
        "id": "moB_KXCYyCKg"
      },
      "source": []
    }
  ],
  "metadata": {
    "colab": {
      "provenance": [],
      "include_colab_link": true
    },
    "kernelspec": {
      "display_name": "phdenv",
      "language": "python",
      "name": "python3"
    },
    "language_info": {
      "codemirror_mode": {
        "name": "ipython",
        "version": 3
      },
      "file_extension": ".py",
      "mimetype": "text/x-python",
      "name": "python",
      "nbconvert_exporter": "python",
      "pygments_lexer": "ipython3",
      "version": "3.12.3"
    },
    "widgets": {
      "application/vnd.jupyter.widget-state+json": {}
    }
  },
  "nbformat": 4,
  "nbformat_minor": 0
}